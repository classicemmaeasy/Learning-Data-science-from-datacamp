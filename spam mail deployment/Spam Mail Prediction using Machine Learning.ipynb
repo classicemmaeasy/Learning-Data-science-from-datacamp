{
 "cells": [
  {
   "cell_type": "code",
   "execution_count": 2,
   "id": "fbd9c590",
   "metadata": {},
   "outputs": [],
   "source": [
    "import pandas as pd\n",
    "import numpy as np \n",
    "from sklearn.model_selection import train_test_split\n",
    "from sklearn.feature_extraction.text import TfidfVectorizer\n",
    "from sklearn.linear_model import LogisticRegression\n",
    "from sklearn.metrics import accuracy_score\n",
    "from sklearn.metrics import classification_report"
   ]
  },
  {
   "cell_type": "markdown",
   "id": "87c8e8eb",
   "metadata": {},
   "source": [
    "Data collection and preproccesing"
   ]
  },
  {
   "cell_type": "code",
   "execution_count": 3,
   "id": "2956f6f9",
   "metadata": {},
   "outputs": [],
   "source": [
    "df=pd.read_csv(\"mail_data.csv\")"
   ]
  },
  {
   "cell_type": "code",
   "execution_count": 4,
   "id": "d40d5f49",
   "metadata": {},
   "outputs": [],
   "source": [
    "#replacing the null values with null string\n",
    "mail_data= df.where((pd.notnull(df)), '')"
   ]
  },
  {
   "cell_type": "code",
   "execution_count": 5,
   "id": "08362586",
   "metadata": {},
   "outputs": [
    {
     "data": {
      "text/html": [
       "<div>\n",
       "<style scoped>\n",
       "    .dataframe tbody tr th:only-of-type {\n",
       "        vertical-align: middle;\n",
       "    }\n",
       "\n",
       "    .dataframe tbody tr th {\n",
       "        vertical-align: top;\n",
       "    }\n",
       "\n",
       "    .dataframe thead th {\n",
       "        text-align: right;\n",
       "    }\n",
       "</style>\n",
       "<table border=\"1\" class=\"dataframe\">\n",
       "  <thead>\n",
       "    <tr style=\"text-align: right;\">\n",
       "      <th></th>\n",
       "      <th>Category</th>\n",
       "      <th>Message</th>\n",
       "    </tr>\n",
       "  </thead>\n",
       "  <tbody>\n",
       "    <tr>\n",
       "      <th>0</th>\n",
       "      <td>ham</td>\n",
       "      <td>Go until jurong point, crazy.. Available only ...</td>\n",
       "    </tr>\n",
       "    <tr>\n",
       "      <th>1</th>\n",
       "      <td>ham</td>\n",
       "      <td>Ok lar... Joking wif u oni...</td>\n",
       "    </tr>\n",
       "    <tr>\n",
       "      <th>2</th>\n",
       "      <td>spam</td>\n",
       "      <td>Free entry in 2 a wkly comp to win FA Cup fina...</td>\n",
       "    </tr>\n",
       "    <tr>\n",
       "      <th>3</th>\n",
       "      <td>ham</td>\n",
       "      <td>U dun say so early hor... U c already then say...</td>\n",
       "    </tr>\n",
       "    <tr>\n",
       "      <th>4</th>\n",
       "      <td>ham</td>\n",
       "      <td>Nah I don't think he goes to usf, he lives aro...</td>\n",
       "    </tr>\n",
       "  </tbody>\n",
       "</table>\n",
       "</div>"
      ],
      "text/plain": [
       "  Category                                            Message\n",
       "0      ham  Go until jurong point, crazy.. Available only ...\n",
       "1      ham                      Ok lar... Joking wif u oni...\n",
       "2     spam  Free entry in 2 a wkly comp to win FA Cup fina...\n",
       "3      ham  U dun say so early hor... U c already then say...\n",
       "4      ham  Nah I don't think he goes to usf, he lives aro..."
      ]
     },
     "execution_count": 5,
     "metadata": {},
     "output_type": "execute_result"
    }
   ],
   "source": [
    "mail_data.head()"
   ]
  },
  {
   "cell_type": "code",
   "execution_count": 6,
   "id": "620d4de0",
   "metadata": {},
   "outputs": [
    {
     "data": {
      "text/plain": [
       "'U dun say so early hor... U c already then say...'"
      ]
     },
     "execution_count": 6,
     "metadata": {},
     "output_type": "execute_result"
    }
   ],
   "source": [
    "mail_data.Message[3]"
   ]
  },
  {
   "cell_type": "code",
   "execution_count": 7,
   "id": "27a85f6d",
   "metadata": {},
   "outputs": [
    {
     "data": {
      "text/plain": [
       "(5572, 2)"
      ]
     },
     "execution_count": 7,
     "metadata": {},
     "output_type": "execute_result"
    }
   ],
   "source": [
    "mail_data.shape"
   ]
  },
  {
   "cell_type": "markdown",
   "id": "57f7aa1e",
   "metadata": {},
   "source": [
    "label Encoding\n",
    "\n",
    "coverting catergorical variables into numeric format"
   ]
  },
  {
   "cell_type": "code",
   "execution_count": 8,
   "id": "2b504196",
   "metadata": {},
   "outputs": [],
   "source": [
    "#spam mail as 0 and \n",
    "# ham mail as 1\n",
    "\n",
    "\n",
    "mail_data['Category']=mail_data['Category'].replace({'ham':1,'spam':0})\n",
    "\n",
    "# mail_data.loc[mail_data['Category']== 'spam', 'Category']= 0\n",
    "# mail_data.loc[mail_data['Category']== 'ham', 'Category']= 1"
   ]
  },
  {
   "cell_type": "code",
   "execution_count": 9,
   "id": "5fbc8778",
   "metadata": {},
   "outputs": [
    {
     "data": {
      "text/html": [
       "<div>\n",
       "<style scoped>\n",
       "    .dataframe tbody tr th:only-of-type {\n",
       "        vertical-align: middle;\n",
       "    }\n",
       "\n",
       "    .dataframe tbody tr th {\n",
       "        vertical-align: top;\n",
       "    }\n",
       "\n",
       "    .dataframe thead th {\n",
       "        text-align: right;\n",
       "    }\n",
       "</style>\n",
       "<table border=\"1\" class=\"dataframe\">\n",
       "  <thead>\n",
       "    <tr style=\"text-align: right;\">\n",
       "      <th></th>\n",
       "      <th>Category</th>\n",
       "      <th>Message</th>\n",
       "    </tr>\n",
       "  </thead>\n",
       "  <tbody>\n",
       "    <tr>\n",
       "      <th>0</th>\n",
       "      <td>1</td>\n",
       "      <td>Go until jurong point, crazy.. Available only ...</td>\n",
       "    </tr>\n",
       "    <tr>\n",
       "      <th>1</th>\n",
       "      <td>1</td>\n",
       "      <td>Ok lar... Joking wif u oni...</td>\n",
       "    </tr>\n",
       "    <tr>\n",
       "      <th>2</th>\n",
       "      <td>0</td>\n",
       "      <td>Free entry in 2 a wkly comp to win FA Cup fina...</td>\n",
       "    </tr>\n",
       "    <tr>\n",
       "      <th>3</th>\n",
       "      <td>1</td>\n",
       "      <td>U dun say so early hor... U c already then say...</td>\n",
       "    </tr>\n",
       "    <tr>\n",
       "      <th>4</th>\n",
       "      <td>1</td>\n",
       "      <td>Nah I don't think he goes to usf, he lives aro...</td>\n",
       "    </tr>\n",
       "  </tbody>\n",
       "</table>\n",
       "</div>"
      ],
      "text/plain": [
       "   Category                                            Message\n",
       "0         1  Go until jurong point, crazy.. Available only ...\n",
       "1         1                      Ok lar... Joking wif u oni...\n",
       "2         0  Free entry in 2 a wkly comp to win FA Cup fina...\n",
       "3         1  U dun say so early hor... U c already then say...\n",
       "4         1  Nah I don't think he goes to usf, he lives aro..."
      ]
     },
     "execution_count": 9,
     "metadata": {},
     "output_type": "execute_result"
    }
   ],
   "source": [
    "mail_data.head()"
   ]
  },
  {
   "cell_type": "markdown",
   "id": "84b86814",
   "metadata": {},
   "source": [
    "#seperating the data as text and labels"
   ]
  },
  {
   "cell_type": "code",
   "execution_count": 10,
   "id": "d772a914",
   "metadata": {},
   "outputs": [],
   "source": [
    "X=mail_data['Message']\n",
    "Y=mail_data['Category']"
   ]
  },
  {
   "cell_type": "code",
   "execution_count": 11,
   "id": "f3fdf4eb",
   "metadata": {},
   "outputs": [
    {
     "name": "stdout",
     "output_type": "stream",
     "text": [
      "0       Go until jurong point, crazy.. Available only ...\n",
      "1                           Ok lar... Joking wif u oni...\n",
      "2       Free entry in 2 a wkly comp to win FA Cup fina...\n",
      "3       U dun say so early hor... U c already then say...\n",
      "4       Nah I don't think he goes to usf, he lives aro...\n",
      "                              ...                        \n",
      "5567    This is the 2nd time we have tried 2 contact u...\n",
      "5568                 Will ü b going to esplanade fr home?\n",
      "5569    Pity, * was in mood for that. So...any other s...\n",
      "5570    The guy did some bitching but I acted like i'd...\n",
      "5571                           Rofl. Its true to its name\n",
      "Name: Message, Length: 5572, dtype: object\n",
      "0       1\n",
      "1       1\n",
      "2       0\n",
      "3       1\n",
      "4       1\n",
      "       ..\n",
      "5567    0\n",
      "5568    1\n",
      "5569    1\n",
      "5570    1\n",
      "5571    1\n",
      "Name: Category, Length: 5572, dtype: int64\n"
     ]
    }
   ],
   "source": [
    "print(X)\n",
    "print(Y)"
   ]
  },
  {
   "cell_type": "markdown",
   "id": "c16530b1",
   "metadata": {},
   "source": [
    "Splitting the data into training and testing"
   ]
  },
  {
   "cell_type": "code",
   "execution_count": 12,
   "id": "241d0c54",
   "metadata": {},
   "outputs": [],
   "source": [
    "X_train,X_test,Y_train,Y_test= train_test_split(X,Y,test_size=0.3,random_state=3) "
   ]
  },
  {
   "cell_type": "code",
   "execution_count": 13,
   "id": "95d9b66c",
   "metadata": {},
   "outputs": [
    {
     "name": "stdout",
     "output_type": "stream",
     "text": [
      "(5572,) (3900,) (1672,)\n"
     ]
    }
   ],
   "source": [
    "print(X.shape,X_train.shape,X_test.shape)"
   ]
  },
  {
   "cell_type": "markdown",
   "id": "8cdf3dcf",
   "metadata": {},
   "source": [
    "Feature Extraction"
   ]
  },
  {
   "cell_type": "code",
   "execution_count": 14,
   "id": "9d5c6fa7",
   "metadata": {},
   "outputs": [],
   "source": [
    "feature_ext= TfidfVectorizer(max_df=1, stop_words='english', lowercase=True)"
   ]
  },
  {
   "cell_type": "code",
   "execution_count": 15,
   "id": "e84e399c",
   "metadata": {},
   "outputs": [
    {
     "data": {
      "text/plain": [
       "TfidfVectorizer(max_df=1, stop_words='english')"
      ]
     },
     "execution_count": 15,
     "metadata": {},
     "output_type": "execute_result"
    }
   ],
   "source": [
    "feature_ext"
   ]
  },
  {
   "cell_type": "code",
   "execution_count": 16,
   "id": "15c42c87",
   "metadata": {},
   "outputs": [],
   "source": [
    "X_train_features= feature_ext.fit_transform(X_train)\n",
    "X_test_features= feature_ext.transform(X_test)"
   ]
  },
  {
   "cell_type": "code",
   "execution_count": 17,
   "id": "c4c71360",
   "metadata": {},
   "outputs": [],
   "source": [
    "# X_train_features\n",
    "# X_test_features"
   ]
  },
  {
   "cell_type": "code",
   "execution_count": 18,
   "id": "47f58125",
   "metadata": {},
   "outputs": [],
   "source": [
    "Y_train=Y_train.astype('int')\n",
    "Y_test= Y_test.astype('int')"
   ]
  },
  {
   "cell_type": "code",
   "execution_count": 19,
   "id": "a142e9fa",
   "metadata": {},
   "outputs": [
    {
     "name": "stdout",
     "output_type": "stream",
     "text": [
      "1455    1\n",
      "3460    0\n",
      "2493    1\n",
      "3378    1\n",
      "3826    1\n",
      "       ..\n",
      "789     0\n",
      "968     1\n",
      "1667    1\n",
      "3321    1\n",
      "1688    0\n",
      "Name: Category, Length: 3900, dtype: int32\n"
     ]
    }
   ],
   "source": [
    "print(Y_train)"
   ]
  },
  {
   "cell_type": "markdown",
   "id": "162a48e4",
   "metadata": {},
   "source": [
    "Training the Model"
   ]
  },
  {
   "cell_type": "code",
   "execution_count": 20,
   "id": "a9612998",
   "metadata": {},
   "outputs": [
    {
     "data": {
      "text/plain": [
       "LogisticRegression()"
      ]
     },
     "execution_count": 20,
     "metadata": {},
     "output_type": "execute_result"
    }
   ],
   "source": [
    "model=LogisticRegression()\n",
    "model"
   ]
  },
  {
   "cell_type": "code",
   "execution_count": 21,
   "id": "7ed802cb",
   "metadata": {},
   "outputs": [
    {
     "data": {
      "text/plain": [
       "LogisticRegression()"
      ]
     },
     "execution_count": 21,
     "metadata": {},
     "output_type": "execute_result"
    }
   ],
   "source": [
    "model.fit(X_train_features,Y_train)"
   ]
  },
  {
   "cell_type": "code",
   "execution_count": 22,
   "id": "44ab4c3e",
   "metadata": {},
   "outputs": [],
   "source": [
    "y_pred=model.predict(X_train_features)"
   ]
  },
  {
   "cell_type": "code",
   "execution_count": 23,
   "id": "cf48007a",
   "metadata": {},
   "outputs": [
    {
     "data": {
      "text/plain": [
       "array([1, 1, 1, ..., 1, 1, 1])"
      ]
     },
     "execution_count": 23,
     "metadata": {},
     "output_type": "execute_result"
    }
   ],
   "source": [
    "y_pred "
   ]
  },
  {
   "cell_type": "code",
   "execution_count": 24,
   "id": "536e369c",
   "metadata": {},
   "outputs": [],
   "source": [
    "score =accuracy_score(Y_train,y_pred )"
   ]
  },
  {
   "cell_type": "code",
   "execution_count": 25,
   "id": "a1ac2d03",
   "metadata": {},
   "outputs": [
    {
     "name": "stdout",
     "output_type": "stream",
     "text": [
      "accuracy score for training data is:  0.867948717948718\n"
     ]
    }
   ],
   "source": [
    "print(\"accuracy score for training data is: \", score)"
   ]
  },
  {
   "cell_type": "code",
   "execution_count": 26,
   "id": "4f5c6c00",
   "metadata": {},
   "outputs": [],
   "source": [
    "yt_pred=model.predict(X_test_features)"
   ]
  },
  {
   "cell_type": "code",
   "execution_count": 27,
   "id": "6ee44742",
   "metadata": {},
   "outputs": [],
   "source": [
    "score =accuracy_score(Y_test,yt_pred)"
   ]
  },
  {
   "cell_type": "code",
   "execution_count": 28,
   "id": "e7ee67c9",
   "metadata": {},
   "outputs": [
    {
     "name": "stdout",
     "output_type": "stream",
     "text": [
      "accuracy score for training data is:  0.861244019138756\n"
     ]
    }
   ],
   "source": [
    "print(\"accuracy score for training data is: \", score)"
   ]
  },
  {
   "cell_type": "code",
   "execution_count": 29,
   "id": "280db4f8",
   "metadata": {},
   "outputs": [],
   "source": [
    "from sklearn import svm"
   ]
  },
  {
   "cell_type": "code",
   "execution_count": 30,
   "id": "472bbdc1",
   "metadata": {},
   "outputs": [],
   "source": [
    "smodel=svm.SVC()"
   ]
  },
  {
   "cell_type": "code",
   "execution_count": 31,
   "id": "65f27d2e",
   "metadata": {},
   "outputs": [
    {
     "data": {
      "text/plain": [
       "SVC()"
      ]
     },
     "execution_count": 31,
     "metadata": {},
     "output_type": "execute_result"
    }
   ],
   "source": [
    "smodel"
   ]
  },
  {
   "cell_type": "markdown",
   "id": "8d69354b",
   "metadata": {},
   "source": [
    "Building a Prediction System"
   ]
  },
  {
   "cell_type": "code",
   "execution_count": 32,
   "id": "9998c16d",
   "metadata": {},
   "outputs": [
    {
     "data": {
      "text/plain": [
       "SVC()"
      ]
     },
     "execution_count": 32,
     "metadata": {},
     "output_type": "execute_result"
    }
   ],
   "source": [
    "smodel.fit(X_train_features,Y_train)"
   ]
  },
  {
   "cell_type": "code",
   "execution_count": 33,
   "id": "ed84d09f",
   "metadata": {},
   "outputs": [],
   "source": [
    "spred=smodel.predict(X_train_features)"
   ]
  },
  {
   "cell_type": "code",
   "execution_count": 34,
   "id": "7da49c4c",
   "metadata": {},
   "outputs": [
    {
     "data": {
      "text/plain": [
       "0.9543589743589743"
      ]
     },
     "execution_count": 34,
     "metadata": {},
     "output_type": "execute_result"
    }
   ],
   "source": [
    "accuracy_score(Y_train,spred)"
   ]
  },
  {
   "cell_type": "code",
   "execution_count": 35,
   "id": "cdf3de47",
   "metadata": {},
   "outputs": [
    {
     "data": {
      "text/plain": [
       "0.8923444976076556"
      ]
     },
     "execution_count": 35,
     "metadata": {},
     "output_type": "execute_result"
    }
   ],
   "source": [
    "stpred=smodel.predict(X_test_features)\n",
    "accuracy_score(Y_test,stpred)"
   ]
  },
  {
   "cell_type": "code",
   "execution_count": 36,
   "id": "d6976bdd",
   "metadata": {},
   "outputs": [
    {
     "name": "stdout",
     "output_type": "stream",
     "text": [
      "[0]\n",
      "It is a spam mail\n"
     ]
    }
   ],
   "source": [
    "input_data=[\"SMS. ac Sptv: The New Jersey Devils and the Detroit Red Wings play Ice Hockey. Correct or Incorrect? End? \"]\n",
    "\n",
    "\n",
    "trans_data= feature_ext.transform(input_data)\n",
    "\n",
    "pred=smodel.predict(trans_data)\n",
    "\n",
    "print(pred) \n",
    "\n",
    "if (pred[0] == 1):\n",
    "    print(\"it is a ham  mail\")\n",
    "else:\n",
    "    print(\"It is a spam mail\")"
   ]
  },
  {
   "cell_type": "code",
   "execution_count": 37,
   "id": "0e17c0a0",
   "metadata": {},
   "outputs": [
    {
     "name": "stdout",
     "output_type": "stream",
     "text": [
      "              precision    recall  f1-score   support\n",
      "\n",
      "           0       0.98      0.23      0.37       232\n",
      "           1       0.89      1.00      0.94      1440\n",
      "\n",
      "    accuracy                           0.89      1672\n",
      "   macro avg       0.94      0.61      0.66      1672\n",
      "weighted avg       0.90      0.89      0.86      1672\n",
      "\n"
     ]
    }
   ],
   "source": [
    "print(classification_report(Y_test,stpred))"
   ]
  },
  {
   "cell_type": "code",
   "execution_count": 38,
   "id": "873fc954",
   "metadata": {},
   "outputs": [],
   "source": [
    "import pickle"
   ]
  },
  {
   "cell_type": "code",
   "execution_count": 39,
   "id": "d5af1d27",
   "metadata": {},
   "outputs": [],
   "source": [
    "filename='Nspam_model.sav'\n",
    "pickle.dump(smodel, open(filename, 'wb'))"
   ]
  },
  {
   "cell_type": "code",
   "execution_count": 40,
   "id": "f6d36076",
   "metadata": {},
   "outputs": [],
   "source": [
    "loaded_model=pickle.load(open('Nspam_model.sav', 'rb'))"
   ]
  },
  {
   "cell_type": "code",
   "execution_count": 41,
   "id": "f5195360",
   "metadata": {},
   "outputs": [],
   "source": [
    "filename='tf_model.sav'\n",
    "pickle.dump(feature_ext, open(filename, 'wb'))"
   ]
  },
  {
   "cell_type": "code",
   "execution_count": 42,
   "id": "40966da6",
   "metadata": {},
   "outputs": [
    {
     "data": {
      "text/plain": [
       "SVC()"
      ]
     },
     "execution_count": 42,
     "metadata": {},
     "output_type": "execute_result"
    }
   ],
   "source": [
    "loaded_model"
   ]
  },
  {
   "cell_type": "code",
   "execution_count": null,
   "id": "f4e78fa1",
   "metadata": {},
   "outputs": [],
   "source": []
  },
  {
   "cell_type": "code",
   "execution_count": null,
   "id": "c70a86b0",
   "metadata": {},
   "outputs": [],
   "source": []
  },
  {
   "cell_type": "code",
   "execution_count": 43,
   "id": "47709389",
   "metadata": {},
   "outputs": [],
   "source": [
    "# !pip3 install tensorflow_text\n",
    "import numpy\n"
   ]
  },
  {
   "cell_type": "code",
   "execution_count": null,
   "id": "201f5edb",
   "metadata": {},
   "outputs": [],
   "source": []
  },
  {
   "cell_type": "code",
   "execution_count": null,
   "id": "5c711e21",
   "metadata": {},
   "outputs": [],
   "source": []
  },
  {
   "cell_type": "code",
   "execution_count": null,
   "id": "6a79e9ff",
   "metadata": {},
   "outputs": [],
   "source": []
  },
  {
   "cell_type": "code",
   "execution_count": null,
   "id": "ebf1a771",
   "metadata": {},
   "outputs": [],
   "source": []
  },
  {
   "cell_type": "code",
   "execution_count": null,
   "id": "81f73957",
   "metadata": {},
   "outputs": [],
   "source": []
  },
  {
   "cell_type": "code",
   "execution_count": null,
   "id": "a365b72c",
   "metadata": {},
   "outputs": [],
   "source": []
  },
  {
   "cell_type": "code",
   "execution_count": null,
   "id": "186951f2",
   "metadata": {},
   "outputs": [],
   "source": []
  }
 ],
 "metadata": {
  "kernelspec": {
   "display_name": "Python 3 (ipykernel)",
   "language": "python",
   "name": "python3"
  },
  "language_info": {
   "codemirror_mode": {
    "name": "ipython",
    "version": 3
   },
   "file_extension": ".py",
   "mimetype": "text/x-python",
   "name": "python",
   "nbconvert_exporter": "python",
   "pygments_lexer": "ipython3",
   "version": "3.9.12"
  }
 },
 "nbformat": 4,
 "nbformat_minor": 5
}
