{
 "cells": [
  {
   "cell_type": "markdown",
   "id": "165b4ac3",
   "metadata": {},
   "source": [
    "#### DATA WRANGLING ON FOOTBALL DATA-SET "
   ]
  },
  {
   "cell_type": "code",
   "execution_count": 1,
   "id": "961946e8",
   "metadata": {},
   "outputs": [],
   "source": [
    "import pandas as pd\n",
    "import numpy as np"
   ]
  },
  {
   "cell_type": "code",
   "execution_count": 2,
   "id": "343663f6",
   "metadata": {},
   "outputs": [
    {
     "name": "stderr",
     "output_type": "stream",
     "text": [
      "C:\\Users\\HP\\AppData\\Local\\Temp\\ipykernel_6376\\1638052573.py:1: DtypeWarning: Columns (26,29,76) have mixed types. Specify dtype option on import or set low_memory=False.\n",
      "  df=pd.read_csv(\"Muskets_teamData_V2.csv\")\n"
     ]
    },
    {
     "data": {
      "text/html": [
       "<div>\n",
       "<style scoped>\n",
       "    .dataframe tbody tr th:only-of-type {\n",
       "        vertical-align: middle;\n",
       "    }\n",
       "\n",
       "    .dataframe tbody tr th {\n",
       "        vertical-align: top;\n",
       "    }\n",
       "\n",
       "    .dataframe thead th {\n",
       "        text-align: right;\n",
       "    }\n",
       "</style>\n",
       "<table border=\"1\" class=\"dataframe\">\n",
       "  <thead>\n",
       "    <tr style=\"text-align: right;\">\n",
       "      <th></th>\n",
       "      <th>ID</th>\n",
       "      <th>Name</th>\n",
       "      <th>LongName</th>\n",
       "      <th>photoUrl</th>\n",
       "      <th>playerUrl</th>\n",
       "      <th>Nationality</th>\n",
       "      <th>Age</th>\n",
       "      <th>↓OVA</th>\n",
       "      <th>POT</th>\n",
       "      <th>Club</th>\n",
       "      <th>...</th>\n",
       "      <th>A/W</th>\n",
       "      <th>D/W</th>\n",
       "      <th>IR</th>\n",
       "      <th>PAC</th>\n",
       "      <th>SHO</th>\n",
       "      <th>PAS</th>\n",
       "      <th>DRI</th>\n",
       "      <th>DEF</th>\n",
       "      <th>PHY</th>\n",
       "      <th>Hits</th>\n",
       "    </tr>\n",
       "  </thead>\n",
       "  <tbody>\n",
       "    <tr>\n",
       "      <th>0</th>\n",
       "      <td>158023</td>\n",
       "      <td>L. Messi</td>\n",
       "      <td>Lionel Messi</td>\n",
       "      <td>https://cdn.sofifa.com/players/158/023/21_60.png</td>\n",
       "      <td>http://sofifa.com/player/158023/lionel-messi/2...</td>\n",
       "      <td>Argentina</td>\n",
       "      <td>33</td>\n",
       "      <td>93.0</td>\n",
       "      <td>93.0</td>\n",
       "      <td>\\n\\n\\n\\nFC Barcelona</td>\n",
       "      <td>...</td>\n",
       "      <td>Medium</td>\n",
       "      <td>Low</td>\n",
       "      <td>5 ★</td>\n",
       "      <td>85.0</td>\n",
       "      <td>92.0</td>\n",
       "      <td>91.0</td>\n",
       "      <td>95.0</td>\n",
       "      <td>38.0</td>\n",
       "      <td>65.0</td>\n",
       "      <td>771</td>\n",
       "    </tr>\n",
       "    <tr>\n",
       "      <th>1</th>\n",
       "      <td>20801</td>\n",
       "      <td>Cristiano Ronaldo</td>\n",
       "      <td>C. Ronaldo dos Santos Aveiro</td>\n",
       "      <td>https://cdn.sofifa.com/players/020/801/21_60.png</td>\n",
       "      <td>http://sofifa.com/player/20801/c-ronaldo-dos-s...</td>\n",
       "      <td>Portugal</td>\n",
       "      <td>35</td>\n",
       "      <td>92.0</td>\n",
       "      <td>92.0</td>\n",
       "      <td>\\n\\n\\n\\nJuventus</td>\n",
       "      <td>...</td>\n",
       "      <td>High</td>\n",
       "      <td>Low</td>\n",
       "      <td>5 ★</td>\n",
       "      <td>89.0</td>\n",
       "      <td>93.0</td>\n",
       "      <td>81.0</td>\n",
       "      <td>89.0</td>\n",
       "      <td>35.0</td>\n",
       "      <td>77.0</td>\n",
       "      <td>562</td>\n",
       "    </tr>\n",
       "    <tr>\n",
       "      <th>2</th>\n",
       "      <td>200389</td>\n",
       "      <td>J. Oblak</td>\n",
       "      <td>Jan Oblak</td>\n",
       "      <td>https://cdn.sofifa.com/players/200/389/21_60.png</td>\n",
       "      <td>http://sofifa.com/player/200389/jan-oblak/210006/</td>\n",
       "      <td>Slovenia</td>\n",
       "      <td>27</td>\n",
       "      <td>91.0</td>\n",
       "      <td>93.0</td>\n",
       "      <td>\\n\\n\\n\\nAtlético Madrid</td>\n",
       "      <td>...</td>\n",
       "      <td>Medium</td>\n",
       "      <td>Medium</td>\n",
       "      <td>3 ★</td>\n",
       "      <td>87.0</td>\n",
       "      <td>92.0</td>\n",
       "      <td>78.0</td>\n",
       "      <td>90.0</td>\n",
       "      <td>52.0</td>\n",
       "      <td>90.0</td>\n",
       "      <td>150</td>\n",
       "    </tr>\n",
       "    <tr>\n",
       "      <th>3</th>\n",
       "      <td>192985</td>\n",
       "      <td>K. De Bruyne</td>\n",
       "      <td>Kevin De Bruyne</td>\n",
       "      <td>https://cdn.sofifa.com/players/192/985/21_60.png</td>\n",
       "      <td>http://sofifa.com/player/192985/kevin-de-bruyn...</td>\n",
       "      <td>Belgium</td>\n",
       "      <td>29</td>\n",
       "      <td>91.0</td>\n",
       "      <td>91.0</td>\n",
       "      <td>\\n\\n\\n\\nManchester City</td>\n",
       "      <td>...</td>\n",
       "      <td>High</td>\n",
       "      <td>High</td>\n",
       "      <td>4 ★</td>\n",
       "      <td>76.0</td>\n",
       "      <td>86.0</td>\n",
       "      <td>93.0</td>\n",
       "      <td>88.0</td>\n",
       "      <td>64.0</td>\n",
       "      <td>78.0</td>\n",
       "      <td>207</td>\n",
       "    </tr>\n",
       "    <tr>\n",
       "      <th>4</th>\n",
       "      <td>190871</td>\n",
       "      <td>Neymar Jr</td>\n",
       "      <td>Neymar da Silva Santos Jr.</td>\n",
       "      <td>https://cdn.sofifa.com/players/190/871/21_60.png</td>\n",
       "      <td>http://sofifa.com/player/190871/neymar-da-silv...</td>\n",
       "      <td>Brazil</td>\n",
       "      <td>28</td>\n",
       "      <td>91.0</td>\n",
       "      <td>91.0</td>\n",
       "      <td>\\n\\n\\n\\nParis Saint-Germain</td>\n",
       "      <td>...</td>\n",
       "      <td>High</td>\n",
       "      <td>Medium</td>\n",
       "      <td>5 ★</td>\n",
       "      <td>91.0</td>\n",
       "      <td>85.0</td>\n",
       "      <td>86.0</td>\n",
       "      <td>94.0</td>\n",
       "      <td>36.0</td>\n",
       "      <td>59.0</td>\n",
       "      <td>595</td>\n",
       "    </tr>\n",
       "  </tbody>\n",
       "</table>\n",
       "<p>5 rows × 77 columns</p>\n",
       "</div>"
      ],
      "text/plain": [
       "       ID               Name                      LongName  \\\n",
       "0  158023           L. Messi                  Lionel Messi   \n",
       "1   20801  Cristiano Ronaldo  C. Ronaldo dos Santos Aveiro   \n",
       "2  200389           J. Oblak                     Jan Oblak   \n",
       "3  192985       K. De Bruyne               Kevin De Bruyne   \n",
       "4  190871          Neymar Jr    Neymar da Silva Santos Jr.   \n",
       "\n",
       "                                           photoUrl  \\\n",
       "0  https://cdn.sofifa.com/players/158/023/21_60.png   \n",
       "1  https://cdn.sofifa.com/players/020/801/21_60.png   \n",
       "2  https://cdn.sofifa.com/players/200/389/21_60.png   \n",
       "3  https://cdn.sofifa.com/players/192/985/21_60.png   \n",
       "4  https://cdn.sofifa.com/players/190/871/21_60.png   \n",
       "\n",
       "                                           playerUrl Nationality  Age  ↓OVA  \\\n",
       "0  http://sofifa.com/player/158023/lionel-messi/2...   Argentina   33  93.0   \n",
       "1  http://sofifa.com/player/20801/c-ronaldo-dos-s...    Portugal   35  92.0   \n",
       "2  http://sofifa.com/player/200389/jan-oblak/210006/    Slovenia   27  91.0   \n",
       "3  http://sofifa.com/player/192985/kevin-de-bruyn...     Belgium   29  91.0   \n",
       "4  http://sofifa.com/player/190871/neymar-da-silv...      Brazil   28  91.0   \n",
       "\n",
       "    POT                         Club  ...     A/W     D/W   IR   PAC   SHO  \\\n",
       "0  93.0         \\n\\n\\n\\nFC Barcelona  ...  Medium     Low  5 ★  85.0  92.0   \n",
       "1  92.0             \\n\\n\\n\\nJuventus  ...    High     Low  5 ★  89.0  93.0   \n",
       "2  93.0      \\n\\n\\n\\nAtlético Madrid  ...  Medium  Medium  3 ★  87.0  92.0   \n",
       "3  91.0      \\n\\n\\n\\nManchester City  ...    High    High  4 ★  76.0  86.0   \n",
       "4  91.0  \\n\\n\\n\\nParis Saint-Germain  ...    High  Medium  5 ★  91.0  85.0   \n",
       "\n",
       "    PAS   DRI   DEF   PHY Hits  \n",
       "0  91.0  95.0  38.0  65.0  771  \n",
       "1  81.0  89.0  35.0  77.0  562  \n",
       "2  78.0  90.0  52.0  90.0  150  \n",
       "3  93.0  88.0  64.0  78.0  207  \n",
       "4  86.0  94.0  36.0  59.0  595  \n",
       "\n",
       "[5 rows x 77 columns]"
      ]
     },
     "execution_count": 2,
     "metadata": {},
     "output_type": "execute_result"
    }
   ],
   "source": [
    " df=pd.read_csv(\"Muskets_teamData_V2.csv\")\n",
    "df.head()"
   ]
  },
  {
   "cell_type": "code",
   "execution_count": 3,
   "id": "3baad525",
   "metadata": {},
   "outputs": [
    {
     "name": "stdout",
     "output_type": "stream",
     "text": [
      "<class 'pandas.core.frame.DataFrame'>\n",
      "RangeIndex: 19021 entries, 0 to 19020\n",
      "Data columns (total 77 columns):\n",
      " #   Column            Non-Null Count  Dtype  \n",
      "---  ------            --------------  -----  \n",
      " 0   ID                19021 non-null  int64  \n",
      " 1   Name              19021 non-null  object \n",
      " 2   LongName          19021 non-null  object \n",
      " 3   photoUrl          19021 non-null  object \n",
      " 4   playerUrl         19021 non-null  object \n",
      " 5   Nationality       19021 non-null  object \n",
      " 6   Age               19021 non-null  int64  \n",
      " 7   ↓OVA              19019 non-null  float64\n",
      " 8   POT               19020 non-null  float64\n",
      " 9   Club              19021 non-null  object \n",
      " 10  Contract          19021 non-null  object \n",
      " 11  Positions         19021 non-null  object \n",
      " 12  Height            19021 non-null  object \n",
      " 13  Weight            19020 non-null  object \n",
      " 14  Preferred Foot    19021 non-null  object \n",
      " 15  BOV               19021 non-null  int64  \n",
      " 16  Best Position     19021 non-null  object \n",
      " 17  Joined            19021 non-null  object \n",
      " 18  Loan Date End     1015 non-null   object \n",
      " 19  Value             19021 non-null  object \n",
      " 20  Wage              19021 non-null  object \n",
      " 21  Release Clause    19018 non-null  object \n",
      " 22  Attacking         19020 non-null  float64\n",
      " 23  Crossing          19020 non-null  float64\n",
      " 24  Finishing         19016 non-null  float64\n",
      " 25  Heading Accuracy  19013 non-null  float64\n",
      " 26  Short Passing     19012 non-null  object \n",
      " 27  Volleys           19014 non-null  float64\n",
      " 28  Skill             19015 non-null  float64\n",
      " 29  Dribbling         19020 non-null  object \n",
      " 30  Curve             19013 non-null  float64\n",
      " 31  FK Accuracy       19015 non-null  float64\n",
      " 32  Long Passing      19018 non-null  float64\n",
      " 33  Ball Control      19018 non-null  float64\n",
      " 34  Movement          19016 non-null  float64\n",
      " 35  Acceleration      19017 non-null  float64\n",
      " 36  Sprint Speed      19018 non-null  float64\n",
      " 37  Agility           19019 non-null  float64\n",
      " 38  Reactions         19017 non-null  float64\n",
      " 39  Balance           19014 non-null  float64\n",
      " 40  Power             19020 non-null  float64\n",
      " 41  Shot Power        19019 non-null  float64\n",
      " 42  Jumping           19017 non-null  float64\n",
      " 43  Stamina           19020 non-null  float64\n",
      " 44  Strength          19016 non-null  float64\n",
      " 45  Long Shots        19014 non-null  float64\n",
      " 46  Mentality         19015 non-null  float64\n",
      " 47  Aggression        19021 non-null  int64  \n",
      " 48  Interceptions     19017 non-null  float64\n",
      " 49  Positioning       19020 non-null  float64\n",
      " 50  Vision            19021 non-null  int64  \n",
      " 51  Penalties         19020 non-null  float64\n",
      " 52  Composure         19020 non-null  float64\n",
      " 53  Defending         19020 non-null  float64\n",
      " 54  Marking           19019 non-null  float64\n",
      " 55  Standing Tackle   19018 non-null  float64\n",
      " 56  Sliding Tackle    19020 non-null  float64\n",
      " 57  Goalkeeping       19018 non-null  float64\n",
      " 58  GK Diving         19020 non-null  float64\n",
      " 59  GK Handling       19020 non-null  float64\n",
      " 60  GK Kicking        19019 non-null  float64\n",
      " 61  GK Positioning    19019 non-null  float64\n",
      " 62  GK Reflexes       19021 non-null  int64  \n",
      " 63  Total Stats       19020 non-null  float64\n",
      " 64  Base Stats        19021 non-null  int64  \n",
      " 65  W/F               19021 non-null  object \n",
      " 66  SM                19021 non-null  object \n",
      " 67  A/W               19021 non-null  object \n",
      " 68  D/W               19020 non-null  object \n",
      " 69  IR                19021 non-null  object \n",
      " 70  PAC               19018 non-null  float64\n",
      " 71  SHO               19018 non-null  float64\n",
      " 72  PAS               19016 non-null  float64\n",
      " 73  DRI               19019 non-null  float64\n",
      " 74  DEF               19016 non-null  float64\n",
      " 75  PHY               19020 non-null  float64\n",
      " 76  Hits              16426 non-null  object \n",
      "dtypes: float64(45), int64(7), object(25)\n",
      "memory usage: 11.2+ MB\n"
     ]
    }
   ],
   "source": [
    "df.info()\n"
   ]
  },
  {
   "cell_type": "markdown",
   "id": "440b2f0c",
   "metadata": {},
   "source": [
    "#### HANDLING MISSING VALUES "
   ]
  },
  {
   "cell_type": "code",
   "execution_count": 4,
   "id": "4cc8dcbb",
   "metadata": {},
   "outputs": [
    {
     "data": {
      "text/plain": [
       "ID              0\n",
       "Name            0\n",
       "LongName        0\n",
       "photoUrl        0\n",
       "playerUrl       0\n",
       "             ... \n",
       "PAS             5\n",
       "DRI             2\n",
       "DEF             5\n",
       "PHY             1\n",
       "Hits         2595\n",
       "Length: 77, dtype: int64"
      ]
     },
     "execution_count": 4,
     "metadata": {},
     "output_type": "execute_result"
    }
   ],
   "source": [
    "df.isnull().sum()"
   ]
  },
  {
   "cell_type": "markdown",
   "id": "5c59abae",
   "metadata": {},
   "source": [
    "REPLACING THE MISSING VALUES WITH THE MEAN "
   ]
  },
  {
   "cell_type": "code",
   "execution_count": 5,
   "id": "a7e4ff45",
   "metadata": {},
   "outputs": [],
   "source": [
    "df['PAS'].mean()\n",
    "df['DEF'].mean()\n",
    "df['PAS']=df['PAS'].fillna(df['PAS'].mean())\n",
    "df['DEF']=df['DEF'].fillna(df['DEF'].mean())"
   ]
  },
  {
   "cell_type": "code",
   "execution_count": 6,
   "id": "24e51bef",
   "metadata": {},
   "outputs": [
    {
     "data": {
      "text/plain": [
       "62.86902571113097"
      ]
     },
     "execution_count": 6,
     "metadata": {},
     "output_type": "execute_result"
    }
   ],
   "source": [
    "df['DRI'].mean()"
   ]
  },
  {
   "cell_type": "code",
   "execution_count": 7,
   "id": "5cc4152d",
   "metadata": {},
   "outputs": [
    {
     "data": {
      "text/plain": [
       "0        95.0\n",
       "1        89.0\n",
       "2        90.0\n",
       "3        88.0\n",
       "4        94.0\n",
       "         ... \n",
       "19016    38.0\n",
       "19017    49.0\n",
       "19018    46.0\n",
       "19019    49.0\n",
       "19020    42.0\n",
       "Name: DRI, Length: 19021, dtype: float64"
      ]
     },
     "execution_count": 7,
     "metadata": {},
     "output_type": "execute_result"
    }
   ],
   "source": [
    "df['DRI']=df['DRI'].fillna(df['DRI'].mean())\n",
    "df['DRI']"
   ]
  },
  {
   "cell_type": "code",
   "execution_count": 8,
   "id": "bd536729",
   "metadata": {},
   "outputs": [
    {
     "data": {
      "text/plain": [
       "64.35983175604626"
      ]
     },
     "execution_count": 8,
     "metadata": {},
     "output_type": "execute_result"
    }
   ],
   "source": [
    "df['PHY'].mean()"
   ]
  },
  {
   "cell_type": "code",
   "execution_count": 9,
   "id": "000bd0d4",
   "metadata": {},
   "outputs": [],
   "source": [
    "df['PHY']=df['PHY'].fillna(df['PHY'].mean())"
   ]
  },
  {
   "cell_type": "code",
   "execution_count": 10,
   "id": "7ef4fb56",
   "metadata": {},
   "outputs": [
    {
     "name": "stderr",
     "output_type": "stream",
     "text": [
      "C:\\Users\\HP\\AppData\\Local\\Temp\\ipykernel_6376\\270897046.py:2: FutureWarning: The default value of regex will change from True to False in a future version.\n",
      "  df['Hits'] = df['Hits'].str.replace('[€MK]', '').astype(float)\n"
     ]
    },
    {
     "data": {
      "text/plain": [
       "0        771.000000\n",
       "1        562.000000\n",
       "2        150.000000\n",
       "3        207.000000\n",
       "4        595.000000\n",
       "            ...    \n",
       "19016     22.759041\n",
       "19017     22.759041\n",
       "19018     22.759041\n",
       "19019     22.759041\n",
       "19020     22.759041\n",
       "Name: Hits, Length: 19021, dtype: float64"
      ]
     },
     "execution_count": 10,
     "metadata": {},
     "output_type": "execute_result"
    }
   ],
   "source": [
    "df['Hits']=df['Hits'].astype(str)\n",
    "df['Hits'] = df['Hits'].str.replace('[€MK]', '').astype(float)\n",
    "df['Hits']=df['Hits'].fillna(df['Hits'].mean())\n",
    "df['Hits']"
   ]
  },
  {
   "cell_type": "markdown",
   "id": "6b3a0b68",
   "metadata": {},
   "source": [
    "#### coverting Height,W/F,SM AND IR to integers"
   ]
  },
  {
   "cell_type": "code",
   "execution_count": 11,
   "id": "de81785f",
   "metadata": {},
   "outputs": [
    {
     "data": {
      "text/plain": [
       "0        72kg\n",
       "1        83kg\n",
       "2        87kg\n",
       "3        70kg\n",
       "4        68kg\n",
       "         ... \n",
       "19016    66kg\n",
       "19017    65kg\n",
       "19018    74kg\n",
       "19019    69kg\n",
       "19020    75kg\n",
       "Name: Weight, Length: 19021, dtype: object"
      ]
     },
     "execution_count": 11,
     "metadata": {},
     "output_type": "execute_result"
    }
   ],
   "source": [
    "df['Weight']"
   ]
  },
  {
   "cell_type": "markdown",
   "id": "a666eec9",
   "metadata": {},
   "source": [
    "CONVERTING THE  OBJECT FEATURES TO INTEGER D-TYPE "
   ]
  },
  {
   "cell_type": "code",
   "execution_count": 12,
   "id": "d71b5c6d",
   "metadata": {},
   "outputs": [
    {
     "data": {
      "text/plain": [
       "<bound method Series.unique of 0        72\n",
       "1        83\n",
       "2        87\n",
       "3        70\n",
       "4        68\n",
       "         ..\n",
       "19016    66\n",
       "19017    65\n",
       "19018    74\n",
       "19019    69\n",
       "19020    75\n",
       "Name: Weight, Length: 19021, dtype: Int64>"
      ]
     },
     "execution_count": 12,
     "metadata": {},
     "output_type": "execute_result"
    }
   ],
   "source": [
    "df['Weight']= df['Weight'].astype(str)\n",
    "df['Weight']= df['Weight'].str.replace('kg', '')\n",
    "df['Weight']=pd.to_numeric(df['Weight'], errors='coerce').astype('Int64')\n",
    "df['Weight'].unique"
   ]
  },
  {
   "cell_type": "code",
   "execution_count": 13,
   "id": "dd0613bc",
   "metadata": {},
   "outputs": [
    {
     "data": {
      "text/plain": [
       "0        4★\n",
       "1        5★\n",
       "2        1★\n",
       "3        4★\n",
       "4        5★\n",
       "         ..\n",
       "19016    2★\n",
       "19017    2★\n",
       "19018    2★\n",
       "19019    2★\n",
       "19020    2★\n",
       "Name: SM, Length: 19021, dtype: object"
      ]
     },
     "execution_count": 13,
     "metadata": {},
     "output_type": "execute_result"
    }
   ],
   "source": [
    "df['SM']"
   ]
  },
  {
   "cell_type": "code",
   "execution_count": 14,
   "id": "1564093e",
   "metadata": {},
   "outputs": [
    {
     "data": {
      "text/plain": [
       "0        4\n",
       "1        5\n",
       "2        1\n",
       "3        4\n",
       "4        5\n",
       "        ..\n",
       "19016    2\n",
       "19017    2\n",
       "19018    2\n",
       "19019    2\n",
       "19020    2\n",
       "Name: SM, Length: 19021, dtype: Int64"
      ]
     },
     "execution_count": 14,
     "metadata": {},
     "output_type": "execute_result"
    }
   ],
   "source": [
    "\n",
    "df['SM'] = df['SM'].str.replace('[*#★]', '', regex=True)\n",
    "df['SM'] = pd.to_numeric(df['SM'], errors='coerce').astype('Int64')\n",
    "df['SM']"
   ]
  },
  {
   "cell_type": "code",
   "execution_count": 15,
   "id": "fb4e17a6",
   "metadata": {},
   "outputs": [
    {
     "data": {
      "text/plain": [
       "0        4\n",
       "1        4\n",
       "2        3\n",
       "3        5\n",
       "4        5\n",
       "        ..\n",
       "19016    2\n",
       "19017    2\n",
       "19018    2\n",
       "19019    3\n",
       "19020    3\n",
       "Name: W/F, Length: 19021, dtype: Int64"
      ]
     },
     "execution_count": 15,
     "metadata": {},
     "output_type": "execute_result"
    }
   ],
   "source": [
    "\n",
    "df['W/F'] = df['W/F'].str.replace('[*#★]', '', regex=True)\n",
    "df['W/F'] = pd.to_numeric(df['W/F'], errors='coerce').astype('Int64')\n",
    "df['W/F']"
   ]
  },
  {
   "cell_type": "code",
   "execution_count": 16,
   "id": "b67f3eec",
   "metadata": {},
   "outputs": [
    {
     "data": {
      "text/plain": [
       "ID           0\n",
       "Name         0\n",
       "LongName     0\n",
       "photoUrl     0\n",
       "playerUrl    0\n",
       "            ..\n",
       "PAS          0\n",
       "DRI          0\n",
       "DEF          0\n",
       "PHY          0\n",
       "Hits         0\n",
       "Length: 77, dtype: int64"
      ]
     },
     "execution_count": 16,
     "metadata": {},
     "output_type": "execute_result"
    }
   ],
   "source": [
    "df.isnull().sum()"
   ]
  },
  {
   "cell_type": "markdown",
   "id": "42886682",
   "metadata": {},
   "source": [
    "\n",
    "#### question 1 CREATING NEW COLUMN BY EXTRACTING PLAYERNAMES FROM THEIR URLS "
   ]
  },
  {
   "cell_type": "code",
   "execution_count": 17,
   "id": "a8c03df7",
   "metadata": {
    "scrolled": true
   },
   "outputs": [
    {
     "data": {
      "text/plain": [
       "'http://sofifa.com/player/158023/lionel-messi/210006/'"
      ]
     },
     "execution_count": 17,
     "metadata": {},
     "output_type": "execute_result"
    }
   ],
   "source": [
    " df['playerUrl'][0]\n"
   ]
  },
  {
   "cell_type": "code",
   "execution_count": 18,
   "id": "2c5039ab",
   "metadata": {},
   "outputs": [
    {
     "name": "stdout",
     "output_type": "stream",
     "text": [
      "                       PlayerNames\n",
      "0                     lionel messi\n",
      "1      c ronaldo dos santos aveiro\n",
      "2                        jan oblak\n",
      "3                  kevin de bruyne\n",
      "4        neymar da silva santos jr\n",
      "...                            ...\n",
      "19016                       ao xia\n",
      "19017                    ben hough\n",
      "19018               ronan mckinley\n",
      "19019                  zhenao wang\n",
      "19020                    xiao zhou\n",
      "\n",
      "[19021 rows x 1 columns]\n"
     ]
    }
   ],
   "source": [
    "urls=df['playerUrl']\n",
    "names= urls.str.split('/').str[-3].str.split('?').str[0].str.replace('-', ' ')\n",
    "namess=names.tolist()\n",
    "\n",
    "\n",
    "data_ply= pd.DataFrame({'PlayerNames': namess})\n",
    "print(data_ply)"
   ]
  },
  {
   "cell_type": "code",
   "execution_count": 19,
   "id": "027405d0",
   "metadata": {},
   "outputs": [
    {
     "data": {
      "text/html": [
       "<div>\n",
       "<style scoped>\n",
       "    .dataframe tbody tr th:only-of-type {\n",
       "        vertical-align: middle;\n",
       "    }\n",
       "\n",
       "    .dataframe tbody tr th {\n",
       "        vertical-align: top;\n",
       "    }\n",
       "\n",
       "    .dataframe thead th {\n",
       "        text-align: right;\n",
       "    }\n",
       "</style>\n",
       "<table border=\"1\" class=\"dataframe\">\n",
       "  <thead>\n",
       "    <tr style=\"text-align: right;\">\n",
       "      <th></th>\n",
       "      <th>ID</th>\n",
       "      <th>Name</th>\n",
       "      <th>LongName</th>\n",
       "      <th>photoUrl</th>\n",
       "      <th>playerUrl</th>\n",
       "      <th>Nationality</th>\n",
       "      <th>Age</th>\n",
       "      <th>↓OVA</th>\n",
       "      <th>POT</th>\n",
       "      <th>Club</th>\n",
       "      <th>...</th>\n",
       "      <th>D/W</th>\n",
       "      <th>IR</th>\n",
       "      <th>PAC</th>\n",
       "      <th>SHO</th>\n",
       "      <th>PAS</th>\n",
       "      <th>DRI</th>\n",
       "      <th>DEF</th>\n",
       "      <th>PHY</th>\n",
       "      <th>Hits</th>\n",
       "      <th>PlayerNames</th>\n",
       "    </tr>\n",
       "  </thead>\n",
       "  <tbody>\n",
       "    <tr>\n",
       "      <th>0</th>\n",
       "      <td>158023</td>\n",
       "      <td>L. Messi</td>\n",
       "      <td>Lionel Messi</td>\n",
       "      <td>https://cdn.sofifa.com/players/158/023/21_60.png</td>\n",
       "      <td>http://sofifa.com/player/158023/lionel-messi/2...</td>\n",
       "      <td>Argentina</td>\n",
       "      <td>33</td>\n",
       "      <td>93.0</td>\n",
       "      <td>93.0</td>\n",
       "      <td>\\n\\n\\n\\nFC Barcelona</td>\n",
       "      <td>...</td>\n",
       "      <td>Low</td>\n",
       "      <td>5 ★</td>\n",
       "      <td>85.0</td>\n",
       "      <td>92.0</td>\n",
       "      <td>91.0</td>\n",
       "      <td>95.0</td>\n",
       "      <td>38.0</td>\n",
       "      <td>65.0</td>\n",
       "      <td>771.000000</td>\n",
       "      <td>lionel messi</td>\n",
       "    </tr>\n",
       "    <tr>\n",
       "      <th>1</th>\n",
       "      <td>20801</td>\n",
       "      <td>Cristiano Ronaldo</td>\n",
       "      <td>C. Ronaldo dos Santos Aveiro</td>\n",
       "      <td>https://cdn.sofifa.com/players/020/801/21_60.png</td>\n",
       "      <td>http://sofifa.com/player/20801/c-ronaldo-dos-s...</td>\n",
       "      <td>Portugal</td>\n",
       "      <td>35</td>\n",
       "      <td>92.0</td>\n",
       "      <td>92.0</td>\n",
       "      <td>\\n\\n\\n\\nJuventus</td>\n",
       "      <td>...</td>\n",
       "      <td>Low</td>\n",
       "      <td>5 ★</td>\n",
       "      <td>89.0</td>\n",
       "      <td>93.0</td>\n",
       "      <td>81.0</td>\n",
       "      <td>89.0</td>\n",
       "      <td>35.0</td>\n",
       "      <td>77.0</td>\n",
       "      <td>562.000000</td>\n",
       "      <td>c ronaldo dos santos aveiro</td>\n",
       "    </tr>\n",
       "    <tr>\n",
       "      <th>2</th>\n",
       "      <td>200389</td>\n",
       "      <td>J. Oblak</td>\n",
       "      <td>Jan Oblak</td>\n",
       "      <td>https://cdn.sofifa.com/players/200/389/21_60.png</td>\n",
       "      <td>http://sofifa.com/player/200389/jan-oblak/210006/</td>\n",
       "      <td>Slovenia</td>\n",
       "      <td>27</td>\n",
       "      <td>91.0</td>\n",
       "      <td>93.0</td>\n",
       "      <td>\\n\\n\\n\\nAtlético Madrid</td>\n",
       "      <td>...</td>\n",
       "      <td>Medium</td>\n",
       "      <td>3 ★</td>\n",
       "      <td>87.0</td>\n",
       "      <td>92.0</td>\n",
       "      <td>78.0</td>\n",
       "      <td>90.0</td>\n",
       "      <td>52.0</td>\n",
       "      <td>90.0</td>\n",
       "      <td>150.000000</td>\n",
       "      <td>jan oblak</td>\n",
       "    </tr>\n",
       "    <tr>\n",
       "      <th>3</th>\n",
       "      <td>192985</td>\n",
       "      <td>K. De Bruyne</td>\n",
       "      <td>Kevin De Bruyne</td>\n",
       "      <td>https://cdn.sofifa.com/players/192/985/21_60.png</td>\n",
       "      <td>http://sofifa.com/player/192985/kevin-de-bruyn...</td>\n",
       "      <td>Belgium</td>\n",
       "      <td>29</td>\n",
       "      <td>91.0</td>\n",
       "      <td>91.0</td>\n",
       "      <td>\\n\\n\\n\\nManchester City</td>\n",
       "      <td>...</td>\n",
       "      <td>High</td>\n",
       "      <td>4 ★</td>\n",
       "      <td>76.0</td>\n",
       "      <td>86.0</td>\n",
       "      <td>93.0</td>\n",
       "      <td>88.0</td>\n",
       "      <td>64.0</td>\n",
       "      <td>78.0</td>\n",
       "      <td>207.000000</td>\n",
       "      <td>kevin de bruyne</td>\n",
       "    </tr>\n",
       "    <tr>\n",
       "      <th>4</th>\n",
       "      <td>190871</td>\n",
       "      <td>Neymar Jr</td>\n",
       "      <td>Neymar da Silva Santos Jr.</td>\n",
       "      <td>https://cdn.sofifa.com/players/190/871/21_60.png</td>\n",
       "      <td>http://sofifa.com/player/190871/neymar-da-silv...</td>\n",
       "      <td>Brazil</td>\n",
       "      <td>28</td>\n",
       "      <td>91.0</td>\n",
       "      <td>91.0</td>\n",
       "      <td>\\n\\n\\n\\nParis Saint-Germain</td>\n",
       "      <td>...</td>\n",
       "      <td>Medium</td>\n",
       "      <td>5 ★</td>\n",
       "      <td>91.0</td>\n",
       "      <td>85.0</td>\n",
       "      <td>86.0</td>\n",
       "      <td>94.0</td>\n",
       "      <td>36.0</td>\n",
       "      <td>59.0</td>\n",
       "      <td>595.000000</td>\n",
       "      <td>neymar da silva santos jr</td>\n",
       "    </tr>\n",
       "    <tr>\n",
       "      <th>...</th>\n",
       "      <td>...</td>\n",
       "      <td>...</td>\n",
       "      <td>...</td>\n",
       "      <td>...</td>\n",
       "      <td>...</td>\n",
       "      <td>...</td>\n",
       "      <td>...</td>\n",
       "      <td>...</td>\n",
       "      <td>...</td>\n",
       "      <td>...</td>\n",
       "      <td>...</td>\n",
       "      <td>...</td>\n",
       "      <td>...</td>\n",
       "      <td>...</td>\n",
       "      <td>...</td>\n",
       "      <td>...</td>\n",
       "      <td>...</td>\n",
       "      <td>...</td>\n",
       "      <td>...</td>\n",
       "      <td>...</td>\n",
       "      <td>...</td>\n",
       "    </tr>\n",
       "    <tr>\n",
       "      <th>19016</th>\n",
       "      <td>247223</td>\n",
       "      <td>Xia Ao</td>\n",
       "      <td>Ao Xia</td>\n",
       "      <td>https://cdn.sofifa.com/players/247/223/21_60.png</td>\n",
       "      <td>http://sofifa.com/player/247223/ao-xia/210006/</td>\n",
       "      <td>China PR</td>\n",
       "      <td>21</td>\n",
       "      <td>47.0</td>\n",
       "      <td>55.0</td>\n",
       "      <td>\\n\\n\\n\\nWuhan Zall</td>\n",
       "      <td>...</td>\n",
       "      <td>Medium</td>\n",
       "      <td>1 ★</td>\n",
       "      <td>64.0</td>\n",
       "      <td>28.0</td>\n",
       "      <td>26.0</td>\n",
       "      <td>38.0</td>\n",
       "      <td>48.0</td>\n",
       "      <td>51.0</td>\n",
       "      <td>22.759041</td>\n",
       "      <td>ao xia</td>\n",
       "    </tr>\n",
       "    <tr>\n",
       "      <th>19017</th>\n",
       "      <td>258760</td>\n",
       "      <td>B. Hough</td>\n",
       "      <td>Ben Hough</td>\n",
       "      <td>https://cdn.sofifa.com/players/258/760/21_60.png</td>\n",
       "      <td>http://sofifa.com/player/258760/ben-hough/210006/</td>\n",
       "      <td>England</td>\n",
       "      <td>17</td>\n",
       "      <td>47.0</td>\n",
       "      <td>67.0</td>\n",
       "      <td>\\n\\n\\n\\nOldham Athletic</td>\n",
       "      <td>...</td>\n",
       "      <td>Medium</td>\n",
       "      <td>1 ★</td>\n",
       "      <td>64.0</td>\n",
       "      <td>40.0</td>\n",
       "      <td>48.0</td>\n",
       "      <td>49.0</td>\n",
       "      <td>35.0</td>\n",
       "      <td>45.0</td>\n",
       "      <td>22.759041</td>\n",
       "      <td>ben hough</td>\n",
       "    </tr>\n",
       "    <tr>\n",
       "      <th>19018</th>\n",
       "      <td>252757</td>\n",
       "      <td>R. McKinley</td>\n",
       "      <td>Ronan McKinley</td>\n",
       "      <td>https://cdn.sofifa.com/players/252/757/21_60.png</td>\n",
       "      <td>http://sofifa.com/player/252757/ronan-mckinley...</td>\n",
       "      <td>England</td>\n",
       "      <td>18</td>\n",
       "      <td>47.0</td>\n",
       "      <td>65.0</td>\n",
       "      <td>\\n\\n\\n\\nDerry City</td>\n",
       "      <td>...</td>\n",
       "      <td>Medium</td>\n",
       "      <td>1 ★</td>\n",
       "      <td>63.0</td>\n",
       "      <td>39.0</td>\n",
       "      <td>44.0</td>\n",
       "      <td>46.0</td>\n",
       "      <td>40.0</td>\n",
       "      <td>53.0</td>\n",
       "      <td>22.759041</td>\n",
       "      <td>ronan mckinley</td>\n",
       "    </tr>\n",
       "    <tr>\n",
       "      <th>19019</th>\n",
       "      <td>243790</td>\n",
       "      <td>Wang Zhen'ao</td>\n",
       "      <td>Zhen'ao Wang</td>\n",
       "      <td>https://cdn.sofifa.com/players/243/790/21_60.png</td>\n",
       "      <td>http://sofifa.com/player/243790/zhenao-wang/21...</td>\n",
       "      <td>China PR</td>\n",
       "      <td>20</td>\n",
       "      <td>47.0</td>\n",
       "      <td>57.0</td>\n",
       "      <td>\\n\\n\\n\\nDalian YiFang FC</td>\n",
       "      <td>...</td>\n",
       "      <td>Medium</td>\n",
       "      <td>1 ★</td>\n",
       "      <td>58.0</td>\n",
       "      <td>49.0</td>\n",
       "      <td>41.0</td>\n",
       "      <td>49.0</td>\n",
       "      <td>30.0</td>\n",
       "      <td>44.0</td>\n",
       "      <td>22.759041</td>\n",
       "      <td>zhenao wang</td>\n",
       "    </tr>\n",
       "    <tr>\n",
       "      <th>19020</th>\n",
       "      <td>252520</td>\n",
       "      <td>Zhou Xiao</td>\n",
       "      <td>Xiao Zhou</td>\n",
       "      <td>https://cdn.sofifa.com/players/252/520/21_60.png</td>\n",
       "      <td>http://sofifa.com/player/252520/xiao-zhou/210006/</td>\n",
       "      <td>China PR</td>\n",
       "      <td>21</td>\n",
       "      <td>47.0</td>\n",
       "      <td>57.0</td>\n",
       "      <td>\\n\\n\\n\\nDalian YiFang FC</td>\n",
       "      <td>...</td>\n",
       "      <td>Medium</td>\n",
       "      <td>1 ★</td>\n",
       "      <td>62.0</td>\n",
       "      <td>22.0</td>\n",
       "      <td>39.0</td>\n",
       "      <td>42.0</td>\n",
       "      <td>45.0</td>\n",
       "      <td>55.0</td>\n",
       "      <td>22.759041</td>\n",
       "      <td>xiao zhou</td>\n",
       "    </tr>\n",
       "  </tbody>\n",
       "</table>\n",
       "<p>19021 rows × 78 columns</p>\n",
       "</div>"
      ],
      "text/plain": [
       "           ID               Name                      LongName  \\\n",
       "0      158023           L. Messi                  Lionel Messi   \n",
       "1       20801  Cristiano Ronaldo  C. Ronaldo dos Santos Aveiro   \n",
       "2      200389           J. Oblak                     Jan Oblak   \n",
       "3      192985       K. De Bruyne               Kevin De Bruyne   \n",
       "4      190871          Neymar Jr    Neymar da Silva Santos Jr.   \n",
       "...       ...                ...                           ...   \n",
       "19016  247223             Xia Ao                        Ao Xia   \n",
       "19017  258760           B. Hough                     Ben Hough   \n",
       "19018  252757        R. McKinley                Ronan McKinley   \n",
       "19019  243790       Wang Zhen'ao                  Zhen'ao Wang   \n",
       "19020  252520          Zhou Xiao                     Xiao Zhou   \n",
       "\n",
       "                                               photoUrl  \\\n",
       "0      https://cdn.sofifa.com/players/158/023/21_60.png   \n",
       "1      https://cdn.sofifa.com/players/020/801/21_60.png   \n",
       "2      https://cdn.sofifa.com/players/200/389/21_60.png   \n",
       "3      https://cdn.sofifa.com/players/192/985/21_60.png   \n",
       "4      https://cdn.sofifa.com/players/190/871/21_60.png   \n",
       "...                                                 ...   \n",
       "19016  https://cdn.sofifa.com/players/247/223/21_60.png   \n",
       "19017  https://cdn.sofifa.com/players/258/760/21_60.png   \n",
       "19018  https://cdn.sofifa.com/players/252/757/21_60.png   \n",
       "19019  https://cdn.sofifa.com/players/243/790/21_60.png   \n",
       "19020  https://cdn.sofifa.com/players/252/520/21_60.png   \n",
       "\n",
       "                                               playerUrl Nationality  Age  \\\n",
       "0      http://sofifa.com/player/158023/lionel-messi/2...   Argentina   33   \n",
       "1      http://sofifa.com/player/20801/c-ronaldo-dos-s...    Portugal   35   \n",
       "2      http://sofifa.com/player/200389/jan-oblak/210006/    Slovenia   27   \n",
       "3      http://sofifa.com/player/192985/kevin-de-bruyn...     Belgium   29   \n",
       "4      http://sofifa.com/player/190871/neymar-da-silv...      Brazil   28   \n",
       "...                                                  ...         ...  ...   \n",
       "19016     http://sofifa.com/player/247223/ao-xia/210006/    China PR   21   \n",
       "19017  http://sofifa.com/player/258760/ben-hough/210006/     England   17   \n",
       "19018  http://sofifa.com/player/252757/ronan-mckinley...     England   18   \n",
       "19019  http://sofifa.com/player/243790/zhenao-wang/21...    China PR   20   \n",
       "19020  http://sofifa.com/player/252520/xiao-zhou/210006/    China PR   21   \n",
       "\n",
       "       ↓OVA   POT                         Club  ...     D/W   IR   PAC   SHO  \\\n",
       "0      93.0  93.0         \\n\\n\\n\\nFC Barcelona  ...     Low  5 ★  85.0  92.0   \n",
       "1      92.0  92.0             \\n\\n\\n\\nJuventus  ...     Low  5 ★  89.0  93.0   \n",
       "2      91.0  93.0      \\n\\n\\n\\nAtlético Madrid  ...  Medium  3 ★  87.0  92.0   \n",
       "3      91.0  91.0      \\n\\n\\n\\nManchester City  ...    High  4 ★  76.0  86.0   \n",
       "4      91.0  91.0  \\n\\n\\n\\nParis Saint-Germain  ...  Medium  5 ★  91.0  85.0   \n",
       "...     ...   ...                          ...  ...     ...  ...   ...   ...   \n",
       "19016  47.0  55.0           \\n\\n\\n\\nWuhan Zall  ...  Medium  1 ★  64.0  28.0   \n",
       "19017  47.0  67.0      \\n\\n\\n\\nOldham Athletic  ...  Medium  1 ★  64.0  40.0   \n",
       "19018  47.0  65.0           \\n\\n\\n\\nDerry City  ...  Medium  1 ★  63.0  39.0   \n",
       "19019  47.0  57.0     \\n\\n\\n\\nDalian YiFang FC  ...  Medium  1 ★  58.0  49.0   \n",
       "19020  47.0  57.0     \\n\\n\\n\\nDalian YiFang FC  ...  Medium  1 ★  62.0  22.0   \n",
       "\n",
       "        PAS   DRI   DEF   PHY        Hits                  PlayerNames  \n",
       "0      91.0  95.0  38.0  65.0  771.000000                 lionel messi  \n",
       "1      81.0  89.0  35.0  77.0  562.000000  c ronaldo dos santos aveiro  \n",
       "2      78.0  90.0  52.0  90.0  150.000000                    jan oblak  \n",
       "3      93.0  88.0  64.0  78.0  207.000000              kevin de bruyne  \n",
       "4      86.0  94.0  36.0  59.0  595.000000    neymar da silva santos jr  \n",
       "...     ...   ...   ...   ...         ...                          ...  \n",
       "19016  26.0  38.0  48.0  51.0   22.759041                       ao xia  \n",
       "19017  48.0  49.0  35.0  45.0   22.759041                    ben hough  \n",
       "19018  44.0  46.0  40.0  53.0   22.759041               ronan mckinley  \n",
       "19019  41.0  49.0  30.0  44.0   22.759041                  zhenao wang  \n",
       "19020  39.0  42.0  45.0  55.0   22.759041                    xiao zhou  \n",
       "\n",
       "[19021 rows x 78 columns]"
      ]
     },
     "execution_count": 19,
     "metadata": {},
     "output_type": "execute_result"
    }
   ],
   "source": [
    "df['PlayerNames']=data_ply\n",
    "df"
   ]
  },
  {
   "cell_type": "markdown",
   "id": "fa0ccffd",
   "metadata": {},
   "source": [
    "#### question 2: creating a new column titled PlayerStatus from contact with 3labels"
   ]
  },
  {
   "cell_type": "code",
   "execution_count": 20,
   "id": "04868eeb",
   "metadata": {},
   "outputs": [],
   "source": [
    "conditions = [\n",
    "    df['Contract'] == 'Active',\n",
    "    df['Contract']== 'Free',\n",
    "    df['Contract'] == 'On Loan'\n",
    "]\n",
    "\n",
    "labels = ['Active', 'Free', 'On Loan']\n",
    "\n",
    "# Using numpy.select to assign the appropriate label based on the conditions\n",
    "df['Player Status'] = np.select(conditions, labels, default='Unknown')\n"
   ]
  },
  {
   "cell_type": "markdown",
   "id": "80ab97b5",
   "metadata": {},
   "source": [
    "#### question3: unpack the position column"
   ]
  },
  {
   "cell_type": "code",
   "execution_count": 21,
   "id": "53de7c19",
   "metadata": {},
   "outputs": [
    {
     "data": {
      "text/plain": [
       "array(['RW, ST, CF', 'ST, LW', 'GK', ..., 'CM', 'RW', 'CB, LB'],\n",
       "      dtype=object)"
      ]
     },
     "execution_count": 21,
     "metadata": {},
     "output_type": "execute_result"
    }
   ],
   "source": [
    "df['Positions'].values"
   ]
  },
  {
   "cell_type": "code",
   "execution_count": 22,
   "id": "aa1864ce",
   "metadata": {},
   "outputs": [
    {
     "data": {
      "text/html": [
       "<div>\n",
       "<style scoped>\n",
       "    .dataframe tbody tr th:only-of-type {\n",
       "        vertical-align: middle;\n",
       "    }\n",
       "\n",
       "    .dataframe tbody tr th {\n",
       "        vertical-align: top;\n",
       "    }\n",
       "\n",
       "    .dataframe thead th {\n",
       "        text-align: right;\n",
       "    }\n",
       "</style>\n",
       "<table border=\"1\" class=\"dataframe\">\n",
       "  <thead>\n",
       "    <tr style=\"text-align: right;\">\n",
       "      <th></th>\n",
       "      <th>CAM, CDM</th>\n",
       "      <th>CAM, CDM, CM</th>\n",
       "      <th>CAM, CDM, LM</th>\n",
       "      <th>CAM, CF</th>\n",
       "      <th>CAM, CF, CM</th>\n",
       "      <th>CAM, CF, LM</th>\n",
       "      <th>CAM, CF, RM</th>\n",
       "      <th>CAM, CF, RW</th>\n",
       "      <th>CAM, CF, ST</th>\n",
       "      <th>CAM, CM</th>\n",
       "      <th>...</th>\n",
       "      <th>ST, RM, RW</th>\n",
       "      <th>ST, RM, RWB</th>\n",
       "      <th>ST, RW</th>\n",
       "      <th>ST, RW, CAM</th>\n",
       "      <th>ST, RW, CF</th>\n",
       "      <th>ST, RW, CM</th>\n",
       "      <th>ST, RW, LM</th>\n",
       "      <th>ST, RW, LW</th>\n",
       "      <th>ST, RW, RM</th>\n",
       "      <th>ST, RWB</th>\n",
       "    </tr>\n",
       "  </thead>\n",
       "  <tbody>\n",
       "    <tr>\n",
       "      <th>0</th>\n",
       "      <td>0</td>\n",
       "      <td>0</td>\n",
       "      <td>0</td>\n",
       "      <td>0</td>\n",
       "      <td>0</td>\n",
       "      <td>0</td>\n",
       "      <td>0</td>\n",
       "      <td>0</td>\n",
       "      <td>0</td>\n",
       "      <td>0</td>\n",
       "      <td>...</td>\n",
       "      <td>0</td>\n",
       "      <td>0</td>\n",
       "      <td>0</td>\n",
       "      <td>0</td>\n",
       "      <td>0</td>\n",
       "      <td>0</td>\n",
       "      <td>0</td>\n",
       "      <td>0</td>\n",
       "      <td>0</td>\n",
       "      <td>0</td>\n",
       "    </tr>\n",
       "    <tr>\n",
       "      <th>1</th>\n",
       "      <td>0</td>\n",
       "      <td>0</td>\n",
       "      <td>0</td>\n",
       "      <td>0</td>\n",
       "      <td>0</td>\n",
       "      <td>0</td>\n",
       "      <td>0</td>\n",
       "      <td>0</td>\n",
       "      <td>0</td>\n",
       "      <td>0</td>\n",
       "      <td>...</td>\n",
       "      <td>0</td>\n",
       "      <td>0</td>\n",
       "      <td>0</td>\n",
       "      <td>0</td>\n",
       "      <td>0</td>\n",
       "      <td>0</td>\n",
       "      <td>0</td>\n",
       "      <td>0</td>\n",
       "      <td>0</td>\n",
       "      <td>0</td>\n",
       "    </tr>\n",
       "    <tr>\n",
       "      <th>2</th>\n",
       "      <td>0</td>\n",
       "      <td>0</td>\n",
       "      <td>0</td>\n",
       "      <td>0</td>\n",
       "      <td>0</td>\n",
       "      <td>0</td>\n",
       "      <td>0</td>\n",
       "      <td>0</td>\n",
       "      <td>0</td>\n",
       "      <td>0</td>\n",
       "      <td>...</td>\n",
       "      <td>0</td>\n",
       "      <td>0</td>\n",
       "      <td>0</td>\n",
       "      <td>0</td>\n",
       "      <td>0</td>\n",
       "      <td>0</td>\n",
       "      <td>0</td>\n",
       "      <td>0</td>\n",
       "      <td>0</td>\n",
       "      <td>0</td>\n",
       "    </tr>\n",
       "    <tr>\n",
       "      <th>3</th>\n",
       "      <td>0</td>\n",
       "      <td>0</td>\n",
       "      <td>0</td>\n",
       "      <td>0</td>\n",
       "      <td>0</td>\n",
       "      <td>0</td>\n",
       "      <td>0</td>\n",
       "      <td>0</td>\n",
       "      <td>0</td>\n",
       "      <td>1</td>\n",
       "      <td>...</td>\n",
       "      <td>0</td>\n",
       "      <td>0</td>\n",
       "      <td>0</td>\n",
       "      <td>0</td>\n",
       "      <td>0</td>\n",
       "      <td>0</td>\n",
       "      <td>0</td>\n",
       "      <td>0</td>\n",
       "      <td>0</td>\n",
       "      <td>0</td>\n",
       "    </tr>\n",
       "    <tr>\n",
       "      <th>4</th>\n",
       "      <td>0</td>\n",
       "      <td>0</td>\n",
       "      <td>0</td>\n",
       "      <td>0</td>\n",
       "      <td>0</td>\n",
       "      <td>0</td>\n",
       "      <td>0</td>\n",
       "      <td>0</td>\n",
       "      <td>0</td>\n",
       "      <td>0</td>\n",
       "      <td>...</td>\n",
       "      <td>0</td>\n",
       "      <td>0</td>\n",
       "      <td>0</td>\n",
       "      <td>0</td>\n",
       "      <td>0</td>\n",
       "      <td>0</td>\n",
       "      <td>0</td>\n",
       "      <td>0</td>\n",
       "      <td>0</td>\n",
       "      <td>0</td>\n",
       "    </tr>\n",
       "    <tr>\n",
       "      <th>...</th>\n",
       "      <td>...</td>\n",
       "      <td>...</td>\n",
       "      <td>...</td>\n",
       "      <td>...</td>\n",
       "      <td>...</td>\n",
       "      <td>...</td>\n",
       "      <td>...</td>\n",
       "      <td>...</td>\n",
       "      <td>...</td>\n",
       "      <td>...</td>\n",
       "      <td>...</td>\n",
       "      <td>...</td>\n",
       "      <td>...</td>\n",
       "      <td>...</td>\n",
       "      <td>...</td>\n",
       "      <td>...</td>\n",
       "      <td>...</td>\n",
       "      <td>...</td>\n",
       "      <td>...</td>\n",
       "      <td>...</td>\n",
       "      <td>...</td>\n",
       "    </tr>\n",
       "    <tr>\n",
       "      <th>19016</th>\n",
       "      <td>0</td>\n",
       "      <td>0</td>\n",
       "      <td>0</td>\n",
       "      <td>0</td>\n",
       "      <td>0</td>\n",
       "      <td>0</td>\n",
       "      <td>0</td>\n",
       "      <td>0</td>\n",
       "      <td>0</td>\n",
       "      <td>0</td>\n",
       "      <td>...</td>\n",
       "      <td>0</td>\n",
       "      <td>0</td>\n",
       "      <td>0</td>\n",
       "      <td>0</td>\n",
       "      <td>0</td>\n",
       "      <td>0</td>\n",
       "      <td>0</td>\n",
       "      <td>0</td>\n",
       "      <td>0</td>\n",
       "      <td>0</td>\n",
       "    </tr>\n",
       "    <tr>\n",
       "      <th>19017</th>\n",
       "      <td>0</td>\n",
       "      <td>0</td>\n",
       "      <td>0</td>\n",
       "      <td>0</td>\n",
       "      <td>0</td>\n",
       "      <td>0</td>\n",
       "      <td>0</td>\n",
       "      <td>0</td>\n",
       "      <td>0</td>\n",
       "      <td>0</td>\n",
       "      <td>...</td>\n",
       "      <td>0</td>\n",
       "      <td>0</td>\n",
       "      <td>0</td>\n",
       "      <td>0</td>\n",
       "      <td>0</td>\n",
       "      <td>0</td>\n",
       "      <td>0</td>\n",
       "      <td>0</td>\n",
       "      <td>0</td>\n",
       "      <td>0</td>\n",
       "    </tr>\n",
       "    <tr>\n",
       "      <th>19018</th>\n",
       "      <td>0</td>\n",
       "      <td>0</td>\n",
       "      <td>0</td>\n",
       "      <td>0</td>\n",
       "      <td>0</td>\n",
       "      <td>0</td>\n",
       "      <td>0</td>\n",
       "      <td>0</td>\n",
       "      <td>0</td>\n",
       "      <td>0</td>\n",
       "      <td>...</td>\n",
       "      <td>0</td>\n",
       "      <td>0</td>\n",
       "      <td>0</td>\n",
       "      <td>0</td>\n",
       "      <td>0</td>\n",
       "      <td>0</td>\n",
       "      <td>0</td>\n",
       "      <td>0</td>\n",
       "      <td>0</td>\n",
       "      <td>0</td>\n",
       "    </tr>\n",
       "    <tr>\n",
       "      <th>19019</th>\n",
       "      <td>0</td>\n",
       "      <td>0</td>\n",
       "      <td>0</td>\n",
       "      <td>0</td>\n",
       "      <td>0</td>\n",
       "      <td>0</td>\n",
       "      <td>0</td>\n",
       "      <td>0</td>\n",
       "      <td>0</td>\n",
       "      <td>0</td>\n",
       "      <td>...</td>\n",
       "      <td>0</td>\n",
       "      <td>0</td>\n",
       "      <td>0</td>\n",
       "      <td>0</td>\n",
       "      <td>0</td>\n",
       "      <td>0</td>\n",
       "      <td>0</td>\n",
       "      <td>0</td>\n",
       "      <td>0</td>\n",
       "      <td>0</td>\n",
       "    </tr>\n",
       "    <tr>\n",
       "      <th>19020</th>\n",
       "      <td>0</td>\n",
       "      <td>0</td>\n",
       "      <td>0</td>\n",
       "      <td>0</td>\n",
       "      <td>0</td>\n",
       "      <td>0</td>\n",
       "      <td>0</td>\n",
       "      <td>0</td>\n",
       "      <td>0</td>\n",
       "      <td>0</td>\n",
       "      <td>...</td>\n",
       "      <td>0</td>\n",
       "      <td>0</td>\n",
       "      <td>0</td>\n",
       "      <td>0</td>\n",
       "      <td>0</td>\n",
       "      <td>0</td>\n",
       "      <td>0</td>\n",
       "      <td>0</td>\n",
       "      <td>0</td>\n",
       "      <td>0</td>\n",
       "    </tr>\n",
       "  </tbody>\n",
       "</table>\n",
       "<p>19021 rows × 639 columns</p>\n",
       "</div>"
      ],
      "text/plain": [
       "       CAM, CDM  CAM, CDM, CM  CAM, CDM, LM  CAM, CF  CAM, CF, CM  \\\n",
       "0             0             0             0        0            0   \n",
       "1             0             0             0        0            0   \n",
       "2             0             0             0        0            0   \n",
       "3             0             0             0        0            0   \n",
       "4             0             0             0        0            0   \n",
       "...         ...           ...           ...      ...          ...   \n",
       "19016         0             0             0        0            0   \n",
       "19017         0             0             0        0            0   \n",
       "19018         0             0             0        0            0   \n",
       "19019         0             0             0        0            0   \n",
       "19020         0             0             0        0            0   \n",
       "\n",
       "       CAM, CF, LM  CAM, CF, RM  CAM, CF, RW  CAM, CF, ST  CAM, CM  ...  \\\n",
       "0                0            0            0            0        0  ...   \n",
       "1                0            0            0            0        0  ...   \n",
       "2                0            0            0            0        0  ...   \n",
       "3                0            0            0            0        1  ...   \n",
       "4                0            0            0            0        0  ...   \n",
       "...            ...          ...          ...          ...      ...  ...   \n",
       "19016            0            0            0            0        0  ...   \n",
       "19017            0            0            0            0        0  ...   \n",
       "19018            0            0            0            0        0  ...   \n",
       "19019            0            0            0            0        0  ...   \n",
       "19020            0            0            0            0        0  ...   \n",
       "\n",
       "       ST, RM, RW  ST, RM, RWB  ST, RW  ST, RW, CAM  ST, RW, CF  ST, RW, CM  \\\n",
       "0               0            0       0            0           0           0   \n",
       "1               0            0       0            0           0           0   \n",
       "2               0            0       0            0           0           0   \n",
       "3               0            0       0            0           0           0   \n",
       "4               0            0       0            0           0           0   \n",
       "...           ...          ...     ...          ...         ...         ...   \n",
       "19016           0            0       0            0           0           0   \n",
       "19017           0            0       0            0           0           0   \n",
       "19018           0            0       0            0           0           0   \n",
       "19019           0            0       0            0           0           0   \n",
       "19020           0            0       0            0           0           0   \n",
       "\n",
       "       ST, RW, LM  ST, RW, LW  ST, RW, RM  ST, RWB  \n",
       "0               0           0           0        0  \n",
       "1               0           0           0        0  \n",
       "2               0           0           0        0  \n",
       "3               0           0           0        0  \n",
       "4               0           0           0        0  \n",
       "...           ...         ...         ...      ...  \n",
       "19016           0           0           0        0  \n",
       "19017           0           0           0        0  \n",
       "19018           0           0           0        0  \n",
       "19019           0           0           0        0  \n",
       "19020           0           0           0        0  \n",
       "\n",
       "[19021 rows x 639 columns]"
      ]
     },
     "execution_count": 22,
     "metadata": {},
     "output_type": "execute_result"
    }
   ],
   "source": [
    "pd.get_dummies(df['Positions'], drop_first=True)"
   ]
  },
  {
   "cell_type": "markdown",
   "id": "a0cbe622",
   "metadata": {},
   "source": [
    "play_postion= pd.get_dummies(df['Positions'], drop_first= True)\n",
    "play_postion.head()"
   ]
  },
  {
   "cell_type": "code",
   "execution_count": 23,
   "id": "ee589515",
   "metadata": {},
   "outputs": [
    {
     "data": {
      "text/plain": [
       "<bound method Series.unique of 0        2004 ~ 2021\n",
       "1        2018 ~ 2022\n",
       "2        2014 ~ 2023\n",
       "3        2015 ~ 2023\n",
       "4        2017 ~ 2022\n",
       "            ...     \n",
       "19016    2018 ~ 2022\n",
       "19017    2020 ~ 2021\n",
       "19018    2019 ~ 2020\n",
       "19019    2020 ~ 2022\n",
       "19020    2019 ~ 2023\n",
       "Name: Contract, Length: 19021, dtype: object>"
      ]
     },
     "execution_count": 23,
     "metadata": {},
     "output_type": "execute_result"
    }
   ],
   "source": [
    "df['Contract'].unique"
   ]
  },
  {
   "cell_type": "code",
   "execution_count": 24,
   "id": "b374aae5",
   "metadata": {},
   "outputs": [
    {
     "data": {
      "text/plain": [
       "0        €103.5M\n",
       "1           €63M\n",
       "2          €120M\n",
       "3          €129M\n",
       "4          €132M\n",
       "          ...   \n",
       "19016      €100K\n",
       "19017      €130K\n",
       "19018      €120K\n",
       "19019      €100K\n",
       "19020      €100K\n",
       "Name: Value, Length: 19021, dtype: object"
      ]
     },
     "execution_count": 24,
     "metadata": {},
     "output_type": "execute_result"
    }
   ],
   "source": [
    "df['Value']"
   ]
  },
  {
   "cell_type": "markdown",
   "id": "c5704e66",
   "metadata": {},
   "source": [
    "#### question5: converting Value, Wage, Release Clause column to float"
   ]
  },
  {
   "cell_type": "code",
   "execution_count": 25,
   "id": "1697adcb",
   "metadata": {},
   "outputs": [
    {
     "name": "stderr",
     "output_type": "stream",
     "text": [
      "C:\\Users\\HP\\AppData\\Local\\Temp\\ipykernel_6376\\7458194.py:2: FutureWarning: The default value of regex will change from True to False in a future version.\n",
      "  df['Value'] = df['Value'].str.replace('[€MK]', '').astype(float)\n"
     ]
    },
    {
     "data": {
      "text/plain": [
       "0    103.5\n",
       "1     63.0\n",
       "2    120.0\n",
       "3    129.0\n",
       "4    132.0\n",
       "Name: Value, dtype: float64"
      ]
     },
     "execution_count": 25,
     "metadata": {},
     "output_type": "execute_result"
    }
   ],
   "source": [
    "df['Value']= df['Value'].astype(str)\n",
    "df['Value'] = df['Value'].str.replace('[€MK]', '').astype(float)\n",
    "df['Value'].head()"
   ]
  },
  {
   "cell_type": "code",
   "execution_count": 26,
   "id": "f465770b",
   "metadata": {},
   "outputs": [
    {
     "data": {
      "text/plain": [
       "0        103.5\n",
       "1         63.0\n",
       "2        120.0\n",
       "3        129.0\n",
       "4        132.0\n",
       "         ...  \n",
       "19016    100.0\n",
       "19017    130.0\n",
       "19018    120.0\n",
       "19019    100.0\n",
       "19020    100.0\n",
       "Name: Value, Length: 19021, dtype: float64"
      ]
     },
     "execution_count": 26,
     "metadata": {},
     "output_type": "execute_result"
    }
   ],
   "source": [
    "\n",
    "df['Value']"
   ]
  },
  {
   "cell_type": "code",
   "execution_count": 27,
   "id": "05030839",
   "metadata": {},
   "outputs": [
    {
     "name": "stderr",
     "output_type": "stream",
     "text": [
      "C:\\Users\\HP\\AppData\\Local\\Temp\\ipykernel_6376\\393670110.py:2: FutureWarning: The default value of regex will change from True to False in a future version.\n",
      "  df['Wage'] = df['Wage'].str.replace('[€MK]', '').astype(float)\n"
     ]
    },
    {
     "data": {
      "text/plain": [
       "0    560.0\n",
       "1    220.0\n",
       "2    125.0\n",
       "3    370.0\n",
       "4    270.0\n",
       "Name: Wage, dtype: float64"
      ]
     },
     "execution_count": 27,
     "metadata": {},
     "output_type": "execute_result"
    }
   ],
   "source": [
    "df['Wage']= df['Wage'].astype(str)\n",
    "df['Wage'] = df['Wage'].str.replace('[€MK]', '').astype(float)\n",
    "df['Wage'].head()"
   ]
  },
  {
   "cell_type": "code",
   "execution_count": 42,
   "id": "bb8816bc",
   "metadata": {},
   "outputs": [
    {
     "name": "stderr",
     "output_type": "stream",
     "text": [
      "C:\\Users\\HP\\AppData\\Local\\Temp\\ipykernel_6376\\1440375008.py:2: FutureWarning: The default value of regex will change from True to False in a future version.\n",
      "  df['Release Clause'] = df['Release Clause'].str.replace('[€MK]', '').astype(float)\n"
     ]
    },
    {
     "data": {
      "text/plain": [
       "0   NaN\n",
       "1   NaN\n",
       "2   NaN\n",
       "3   NaN\n",
       "4   NaN\n",
       "Name: Release Clause, dtype: float64"
      ]
     },
     "execution_count": 42,
     "metadata": {},
     "output_type": "execute_result"
    }
   ],
   "source": [
    "df['Release Clause']= df['Release Clause'].astype(str)\n",
    "df['Release Clause'] = df['Release Clause'].str.replace('[€MK]', '').astype(float)\n",
    "# df['Release Clause'] = pd.to_numeric(df['Release Clause'], errors='coerce').astype(float)\n",
    "df['Release Clause'].head()\n"
   ]
  },
  {
   "cell_type": "code",
   "execution_count": 29,
   "id": "f9319978",
   "metadata": {},
   "outputs": [
    {
     "data": {
      "text/plain": [
       "0        771.000000\n",
       "1        562.000000\n",
       "2        150.000000\n",
       "3        207.000000\n",
       "4        595.000000\n",
       "            ...    \n",
       "19016     22.759041\n",
       "19017     22.759041\n",
       "19018     22.759041\n",
       "19019     22.759041\n",
       "19020     22.759041\n",
       "Name: Hits, Length: 19021, dtype: float64"
      ]
     },
     "execution_count": 29,
     "metadata": {},
     "output_type": "execute_result"
    }
   ],
   "source": [
    "df['Hits']"
   ]
  },
  {
   "cell_type": "code",
   "execution_count": 30,
   "id": "da5272d3",
   "metadata": {},
   "outputs": [
    {
     "name": "stderr",
     "output_type": "stream",
     "text": [
      "C:\\Users\\HP\\AppData\\Local\\Temp\\ipykernel_6376\\517238959.py:2: FutureWarning: The default value of regex will change from True to False in a future version.\n",
      "  df['Hits'] = df['Hits'].str.replace('[€MK]', '').astype(float)\n"
     ]
    },
    {
     "data": {
      "text/plain": [
       "0    771.0\n",
       "1    562.0\n",
       "2    150.0\n",
       "3    207.0\n",
       "4    595.0\n",
       "Name: Hits, dtype: float64"
      ]
     },
     "execution_count": 30,
     "metadata": {},
     "output_type": "execute_result"
    }
   ],
   "source": [
    "df['Hits']=df['Hits'].astype(str)\n",
    "df['Hits'] = df['Hits'].str.replace('[€MK]', '').astype(float)\n",
    "df['Hits'].head()"
   ]
  },
  {
   "cell_type": "code",
   "execution_count": 31,
   "id": "c33eb921",
   "metadata": {},
   "outputs": [
    {
     "data": {
      "text/plain": [
       "0        170cm\n",
       "1        187cm\n",
       "2        188cm\n",
       "3        181cm\n",
       "4        175cm\n",
       "         ...  \n",
       "19016    178cm\n",
       "19017    175cm\n",
       "19018    179cm\n",
       "19019    175cm\n",
       "19020    188cm\n",
       "Name: Height, Length: 19021, dtype: object"
      ]
     },
     "execution_count": 31,
     "metadata": {},
     "output_type": "execute_result"
    }
   ],
   "source": [
    "df['Height']"
   ]
  },
  {
   "cell_type": "code",
   "execution_count": 32,
   "id": "69c93ae0",
   "metadata": {},
   "outputs": [
    {
     "data": {
      "text/plain": [
       "0        170\n",
       "1        187\n",
       "2        188\n",
       "3        181\n",
       "4        175\n",
       "        ... \n",
       "19016    178\n",
       "19017    175\n",
       "19018    179\n",
       "19019    175\n",
       "19020    188\n",
       "Name: Height, Length: 19021, dtype: Int64"
      ]
     },
     "execution_count": 32,
     "metadata": {},
     "output_type": "execute_result"
    }
   ],
   "source": [
    "df['Height']=df['Height'].astype(str)\n",
    "df['Height']=df['Height'].str.replace('cm','')\n",
    "df['Height'] = pd.to_numeric(df['Height'], errors='coerce').astype('Int64')\n",
    "df['Height']"
   ]
  },
  {
   "cell_type": "code",
   "execution_count": 33,
   "id": "59678052",
   "metadata": {},
   "outputs": [
    {
     "name": "stdout",
     "output_type": "stream",
     "text": [
      "yes\n"
     ]
    }
   ],
   "source": [
    "# df['Release Clause'].isnull()==True\n",
    "if df['Release Clause'].isnull().any():\n",
    "    print(\"yes\")\n",
    "else:\n",
    "    print(\"no\")\n",
    "\n",
    "    \n"
   ]
  },
  {
   "cell_type": "code",
   "execution_count": 34,
   "id": "6b076c44",
   "metadata": {},
   "outputs": [
    {
     "data": {
      "text/plain": [
       "3"
      ]
     },
     "execution_count": 34,
     "metadata": {},
     "output_type": "execute_result"
    }
   ],
   "source": [
    "df['Release Clause'].isnull().sum()"
   ]
  },
  {
   "cell_type": "code",
   "execution_count": 35,
   "id": "e42d807a",
   "metadata": {},
   "outputs": [],
   "source": [
    "df['Release Clause']=df['Release Clause'].fillna(df['Release Clause'].mode()[0], inplace=True)"
   ]
  },
  {
   "cell_type": "markdown",
   "id": "9bf6c177",
   "metadata": {},
   "source": [
    "#### question7: creating a categorical columnn for height, weight, release clause, Value, Wage into clusters(Buckets) "
   ]
  },
  {
   "cell_type": "code",
   "execution_count": 36,
   "id": "6fc834c1",
   "metadata": {},
   "outputs": [],
   "source": [
    "# height_intervals = range(df['Height'].min(), df['Height'].max() + 10, 10)\n",
    "# weight_intervals = range(df['Weight'].min(), df['Weight'].max() + 10, 10)\n",
    "# wage_intervals = range(int(df['Wage'].min()), int(df['Wage'].max()) + 50000, 50000)\n",
    "# value_intervals = range(int(df['Value'].min()), int(df['Value'].max()) + 50000000, 50000000)\n",
    "\n",
    "# df['Release Clause']=df['Release Clause'].astype(int)\n",
    "# release_intervals = range(df['Release Clause'].min(), df['Release Clause'].max() + 50000000, 50000000)\n",
    "\n",
    "# # Create new categorical columns\n",
    "# df['Height_Category'] = pd.cut(df['Height'], bins=height_intervals, labels=False)\n",
    "# df['Weight_Category'] = pd.cut(df['Weight'], bins=weight_intervals, labels=False)\n",
    "# df['Wage_Category'] = pd.cut(df['Wage'], bins=wage_intervals, labels=False)\n",
    "# df['Value_Category'] = pd.cut(df['Value'], bins=value_intervals, labels=False)\n",
    "# df['Release_Category'] = pd.cut(df['Release Clause'], bins=release_intervals, labels=False)\n"
   ]
  },
  {
   "cell_type": "code",
   "execution_count": 37,
   "id": "7575cf0a",
   "metadata": {},
   "outputs": [
    {
     "ename": "TypeError",
     "evalue": "int() argument must be a string, a bytes-like object or a number, not 'NoneType'",
     "output_type": "error",
     "traceback": [
      "\u001b[1;31m---------------------------------------------------------------------------\u001b[0m",
      "\u001b[1;31mTypeError\u001b[0m                                 Traceback (most recent call last)",
      "Input \u001b[1;32mIn [37]\u001b[0m, in \u001b[0;36m<cell line: 3>\u001b[1;34m()\u001b[0m\n\u001b[0;32m      1\u001b[0m df[\u001b[38;5;124m'\u001b[39m\u001b[38;5;124mWage\u001b[39m\u001b[38;5;124m'\u001b[39m]\u001b[38;5;241m=\u001b[39mdf[\u001b[38;5;124m'\u001b[39m\u001b[38;5;124mWage\u001b[39m\u001b[38;5;124m'\u001b[39m]\u001b[38;5;241m.\u001b[39mastype(\u001b[38;5;28mint\u001b[39m)\n\u001b[0;32m      2\u001b[0m df[\u001b[38;5;124m'\u001b[39m\u001b[38;5;124mValue\u001b[39m\u001b[38;5;124m'\u001b[39m]\u001b[38;5;241m=\u001b[39mdf[\u001b[38;5;124m'\u001b[39m\u001b[38;5;124mWage\u001b[39m\u001b[38;5;124m'\u001b[39m]\u001b[38;5;241m.\u001b[39mastype(\u001b[38;5;28mint\u001b[39m)\n\u001b[1;32m----> 3\u001b[0m df[\u001b[38;5;124m'\u001b[39m\u001b[38;5;124mRelease Clause\u001b[39m\u001b[38;5;124m'\u001b[39m]\u001b[38;5;241m=\u001b[39m\u001b[43mdf\u001b[49m\u001b[43m[\u001b[49m\u001b[38;5;124;43m'\u001b[39;49m\u001b[38;5;124;43mRelease Clause\u001b[39;49m\u001b[38;5;124;43m'\u001b[39;49m\u001b[43m]\u001b[49m\u001b[38;5;241;43m.\u001b[39;49m\u001b[43mastype\u001b[49m\u001b[43m(\u001b[49m\u001b[38;5;28;43mint\u001b[39;49m\u001b[43m)\u001b[49m\n",
      "File \u001b[1;32m~\\anaconda3\\lib\\site-packages\\pandas\\core\\generic.py:5912\u001b[0m, in \u001b[0;36mNDFrame.astype\u001b[1;34m(self, dtype, copy, errors)\u001b[0m\n\u001b[0;32m   5905\u001b[0m     results \u001b[38;5;241m=\u001b[39m [\n\u001b[0;32m   5906\u001b[0m         \u001b[38;5;28mself\u001b[39m\u001b[38;5;241m.\u001b[39miloc[:, i]\u001b[38;5;241m.\u001b[39mastype(dtype, copy\u001b[38;5;241m=\u001b[39mcopy)\n\u001b[0;32m   5907\u001b[0m         \u001b[38;5;28;01mfor\u001b[39;00m i \u001b[38;5;129;01min\u001b[39;00m \u001b[38;5;28mrange\u001b[39m(\u001b[38;5;28mlen\u001b[39m(\u001b[38;5;28mself\u001b[39m\u001b[38;5;241m.\u001b[39mcolumns))\n\u001b[0;32m   5908\u001b[0m     ]\n\u001b[0;32m   5910\u001b[0m \u001b[38;5;28;01melse\u001b[39;00m:\n\u001b[0;32m   5911\u001b[0m     \u001b[38;5;66;03m# else, only a single dtype is given\u001b[39;00m\n\u001b[1;32m-> 5912\u001b[0m     new_data \u001b[38;5;241m=\u001b[39m \u001b[38;5;28;43mself\u001b[39;49m\u001b[38;5;241;43m.\u001b[39;49m\u001b[43m_mgr\u001b[49m\u001b[38;5;241;43m.\u001b[39;49m\u001b[43mastype\u001b[49m\u001b[43m(\u001b[49m\u001b[43mdtype\u001b[49m\u001b[38;5;241;43m=\u001b[39;49m\u001b[43mdtype\u001b[49m\u001b[43m,\u001b[49m\u001b[43m \u001b[49m\u001b[43mcopy\u001b[49m\u001b[38;5;241;43m=\u001b[39;49m\u001b[43mcopy\u001b[49m\u001b[43m,\u001b[49m\u001b[43m \u001b[49m\u001b[43merrors\u001b[49m\u001b[38;5;241;43m=\u001b[39;49m\u001b[43merrors\u001b[49m\u001b[43m)\u001b[49m\n\u001b[0;32m   5913\u001b[0m     \u001b[38;5;28;01mreturn\u001b[39;00m \u001b[38;5;28mself\u001b[39m\u001b[38;5;241m.\u001b[39m_constructor(new_data)\u001b[38;5;241m.\u001b[39m__finalize__(\u001b[38;5;28mself\u001b[39m, method\u001b[38;5;241m=\u001b[39m\u001b[38;5;124m\"\u001b[39m\u001b[38;5;124mastype\u001b[39m\u001b[38;5;124m\"\u001b[39m)\n\u001b[0;32m   5915\u001b[0m \u001b[38;5;66;03m# GH 33113: handle empty frame or series\u001b[39;00m\n",
      "File \u001b[1;32m~\\anaconda3\\lib\\site-packages\\pandas\\core\\internals\\managers.py:419\u001b[0m, in \u001b[0;36mBaseBlockManager.astype\u001b[1;34m(self, dtype, copy, errors)\u001b[0m\n\u001b[0;32m    418\u001b[0m \u001b[38;5;28;01mdef\u001b[39;00m \u001b[38;5;21mastype\u001b[39m(\u001b[38;5;28mself\u001b[39m: T, dtype, copy: \u001b[38;5;28mbool\u001b[39m \u001b[38;5;241m=\u001b[39m \u001b[38;5;28;01mFalse\u001b[39;00m, errors: \u001b[38;5;28mstr\u001b[39m \u001b[38;5;241m=\u001b[39m \u001b[38;5;124m\"\u001b[39m\u001b[38;5;124mraise\u001b[39m\u001b[38;5;124m\"\u001b[39m) \u001b[38;5;241m-\u001b[39m\u001b[38;5;241m>\u001b[39m T:\n\u001b[1;32m--> 419\u001b[0m     \u001b[38;5;28;01mreturn\u001b[39;00m \u001b[38;5;28;43mself\u001b[39;49m\u001b[38;5;241;43m.\u001b[39;49m\u001b[43mapply\u001b[49m\u001b[43m(\u001b[49m\u001b[38;5;124;43m\"\u001b[39;49m\u001b[38;5;124;43mastype\u001b[39;49m\u001b[38;5;124;43m\"\u001b[39;49m\u001b[43m,\u001b[49m\u001b[43m \u001b[49m\u001b[43mdtype\u001b[49m\u001b[38;5;241;43m=\u001b[39;49m\u001b[43mdtype\u001b[49m\u001b[43m,\u001b[49m\u001b[43m \u001b[49m\u001b[43mcopy\u001b[49m\u001b[38;5;241;43m=\u001b[39;49m\u001b[43mcopy\u001b[49m\u001b[43m,\u001b[49m\u001b[43m \u001b[49m\u001b[43merrors\u001b[49m\u001b[38;5;241;43m=\u001b[39;49m\u001b[43merrors\u001b[49m\u001b[43m)\u001b[49m\n",
      "File \u001b[1;32m~\\anaconda3\\lib\\site-packages\\pandas\\core\\internals\\managers.py:304\u001b[0m, in \u001b[0;36mBaseBlockManager.apply\u001b[1;34m(self, f, align_keys, ignore_failures, **kwargs)\u001b[0m\n\u001b[0;32m    302\u001b[0m         applied \u001b[38;5;241m=\u001b[39m b\u001b[38;5;241m.\u001b[39mapply(f, \u001b[38;5;241m*\u001b[39m\u001b[38;5;241m*\u001b[39mkwargs)\n\u001b[0;32m    303\u001b[0m     \u001b[38;5;28;01melse\u001b[39;00m:\n\u001b[1;32m--> 304\u001b[0m         applied \u001b[38;5;241m=\u001b[39m \u001b[38;5;28mgetattr\u001b[39m(b, f)(\u001b[38;5;241m*\u001b[39m\u001b[38;5;241m*\u001b[39mkwargs)\n\u001b[0;32m    305\u001b[0m \u001b[38;5;28;01mexcept\u001b[39;00m (\u001b[38;5;167;01mTypeError\u001b[39;00m, \u001b[38;5;167;01mNotImplementedError\u001b[39;00m):\n\u001b[0;32m    306\u001b[0m     \u001b[38;5;28;01mif\u001b[39;00m \u001b[38;5;129;01mnot\u001b[39;00m ignore_failures:\n",
      "File \u001b[1;32m~\\anaconda3\\lib\\site-packages\\pandas\\core\\internals\\blocks.py:580\u001b[0m, in \u001b[0;36mBlock.astype\u001b[1;34m(self, dtype, copy, errors)\u001b[0m\n\u001b[0;32m    562\u001b[0m \u001b[38;5;124;03m\"\"\"\u001b[39;00m\n\u001b[0;32m    563\u001b[0m \u001b[38;5;124;03mCoerce to the new dtype.\u001b[39;00m\n\u001b[0;32m    564\u001b[0m \n\u001b[1;32m   (...)\u001b[0m\n\u001b[0;32m    576\u001b[0m \u001b[38;5;124;03mBlock\u001b[39;00m\n\u001b[0;32m    577\u001b[0m \u001b[38;5;124;03m\"\"\"\u001b[39;00m\n\u001b[0;32m    578\u001b[0m values \u001b[38;5;241m=\u001b[39m \u001b[38;5;28mself\u001b[39m\u001b[38;5;241m.\u001b[39mvalues\n\u001b[1;32m--> 580\u001b[0m new_values \u001b[38;5;241m=\u001b[39m \u001b[43mastype_array_safe\u001b[49m\u001b[43m(\u001b[49m\u001b[43mvalues\u001b[49m\u001b[43m,\u001b[49m\u001b[43m \u001b[49m\u001b[43mdtype\u001b[49m\u001b[43m,\u001b[49m\u001b[43m \u001b[49m\u001b[43mcopy\u001b[49m\u001b[38;5;241;43m=\u001b[39;49m\u001b[43mcopy\u001b[49m\u001b[43m,\u001b[49m\u001b[43m \u001b[49m\u001b[43merrors\u001b[49m\u001b[38;5;241;43m=\u001b[39;49m\u001b[43merrors\u001b[49m\u001b[43m)\u001b[49m\n\u001b[0;32m    582\u001b[0m new_values \u001b[38;5;241m=\u001b[39m maybe_coerce_values(new_values)\n\u001b[0;32m    583\u001b[0m newb \u001b[38;5;241m=\u001b[39m \u001b[38;5;28mself\u001b[39m\u001b[38;5;241m.\u001b[39mmake_block(new_values)\n",
      "File \u001b[1;32m~\\anaconda3\\lib\\site-packages\\pandas\\core\\dtypes\\cast.py:1292\u001b[0m, in \u001b[0;36mastype_array_safe\u001b[1;34m(values, dtype, copy, errors)\u001b[0m\n\u001b[0;32m   1289\u001b[0m     dtype \u001b[38;5;241m=\u001b[39m dtype\u001b[38;5;241m.\u001b[39mnumpy_dtype\n\u001b[0;32m   1291\u001b[0m \u001b[38;5;28;01mtry\u001b[39;00m:\n\u001b[1;32m-> 1292\u001b[0m     new_values \u001b[38;5;241m=\u001b[39m \u001b[43mastype_array\u001b[49m\u001b[43m(\u001b[49m\u001b[43mvalues\u001b[49m\u001b[43m,\u001b[49m\u001b[43m \u001b[49m\u001b[43mdtype\u001b[49m\u001b[43m,\u001b[49m\u001b[43m \u001b[49m\u001b[43mcopy\u001b[49m\u001b[38;5;241;43m=\u001b[39;49m\u001b[43mcopy\u001b[49m\u001b[43m)\u001b[49m\n\u001b[0;32m   1293\u001b[0m \u001b[38;5;28;01mexcept\u001b[39;00m (\u001b[38;5;167;01mValueError\u001b[39;00m, \u001b[38;5;167;01mTypeError\u001b[39;00m):\n\u001b[0;32m   1294\u001b[0m     \u001b[38;5;66;03m# e.g. astype_nansafe can fail on object-dtype of strings\u001b[39;00m\n\u001b[0;32m   1295\u001b[0m     \u001b[38;5;66;03m#  trying to convert to float\u001b[39;00m\n\u001b[0;32m   1296\u001b[0m     \u001b[38;5;28;01mif\u001b[39;00m errors \u001b[38;5;241m==\u001b[39m \u001b[38;5;124m\"\u001b[39m\u001b[38;5;124mignore\u001b[39m\u001b[38;5;124m\"\u001b[39m:\n",
      "File \u001b[1;32m~\\anaconda3\\lib\\site-packages\\pandas\\core\\dtypes\\cast.py:1237\u001b[0m, in \u001b[0;36mastype_array\u001b[1;34m(values, dtype, copy)\u001b[0m\n\u001b[0;32m   1234\u001b[0m     values \u001b[38;5;241m=\u001b[39m values\u001b[38;5;241m.\u001b[39mastype(dtype, copy\u001b[38;5;241m=\u001b[39mcopy)\n\u001b[0;32m   1236\u001b[0m \u001b[38;5;28;01melse\u001b[39;00m:\n\u001b[1;32m-> 1237\u001b[0m     values \u001b[38;5;241m=\u001b[39m \u001b[43mastype_nansafe\u001b[49m\u001b[43m(\u001b[49m\u001b[43mvalues\u001b[49m\u001b[43m,\u001b[49m\u001b[43m \u001b[49m\u001b[43mdtype\u001b[49m\u001b[43m,\u001b[49m\u001b[43m \u001b[49m\u001b[43mcopy\u001b[49m\u001b[38;5;241;43m=\u001b[39;49m\u001b[43mcopy\u001b[49m\u001b[43m)\u001b[49m\n\u001b[0;32m   1239\u001b[0m \u001b[38;5;66;03m# in pandas we don't store numpy str dtypes, so convert to object\u001b[39;00m\n\u001b[0;32m   1240\u001b[0m \u001b[38;5;28;01mif\u001b[39;00m \u001b[38;5;28misinstance\u001b[39m(dtype, np\u001b[38;5;241m.\u001b[39mdtype) \u001b[38;5;129;01mand\u001b[39;00m \u001b[38;5;28missubclass\u001b[39m(values\u001b[38;5;241m.\u001b[39mdtype\u001b[38;5;241m.\u001b[39mtype, \u001b[38;5;28mstr\u001b[39m):\n",
      "File \u001b[1;32m~\\anaconda3\\lib\\site-packages\\pandas\\core\\dtypes\\cast.py:1154\u001b[0m, in \u001b[0;36mastype_nansafe\u001b[1;34m(arr, dtype, copy, skipna)\u001b[0m\n\u001b[0;32m   1150\u001b[0m \u001b[38;5;28;01melif\u001b[39;00m is_object_dtype(arr\u001b[38;5;241m.\u001b[39mdtype):\n\u001b[0;32m   1151\u001b[0m \n\u001b[0;32m   1152\u001b[0m     \u001b[38;5;66;03m# work around NumPy brokenness, #1987\u001b[39;00m\n\u001b[0;32m   1153\u001b[0m     \u001b[38;5;28;01mif\u001b[39;00m np\u001b[38;5;241m.\u001b[39missubdtype(dtype\u001b[38;5;241m.\u001b[39mtype, np\u001b[38;5;241m.\u001b[39minteger):\n\u001b[1;32m-> 1154\u001b[0m         \u001b[38;5;28;01mreturn\u001b[39;00m \u001b[43mlib\u001b[49m\u001b[38;5;241;43m.\u001b[39;49m\u001b[43mastype_intsafe\u001b[49m\u001b[43m(\u001b[49m\u001b[43marr\u001b[49m\u001b[43m,\u001b[49m\u001b[43m \u001b[49m\u001b[43mdtype\u001b[49m\u001b[43m)\u001b[49m\n\u001b[0;32m   1156\u001b[0m     \u001b[38;5;66;03m# if we have a datetime/timedelta array of objects\u001b[39;00m\n\u001b[0;32m   1157\u001b[0m     \u001b[38;5;66;03m# then coerce to a proper dtype and recall astype_nansafe\u001b[39;00m\n\u001b[0;32m   1159\u001b[0m     \u001b[38;5;28;01melif\u001b[39;00m is_datetime64_dtype(dtype):\n",
      "File \u001b[1;32m~\\anaconda3\\lib\\site-packages\\pandas\\_libs\\lib.pyx:668\u001b[0m, in \u001b[0;36mpandas._libs.lib.astype_intsafe\u001b[1;34m()\u001b[0m\n",
      "\u001b[1;31mTypeError\u001b[0m: int() argument must be a string, a bytes-like object or a number, not 'NoneType'"
     ]
    }
   ],
   "source": [
    "df['Wage']=df['Wage'].astype(int)\n",
    "df['Value']=df['Wage'].astype(int)\n",
    "df['Release Clause']=df['Release Clause'].astype(int)"
   ]
  },
  {
   "cell_type": "code",
   "execution_count": null,
   "id": "8dc68fcb",
   "metadata": {},
   "outputs": [],
   "source": [
    "# Function to create bins and labels for a column\n",
    "def create_bins_labels(column, step):\n",
    "    min_value = column.min()\n",
    "    max_value = column.max()\n",
    "    bins = list(range(min_value, max_value + step, step))\n",
    "    labels = [f'{b}-{b+step-1}' for b in bins[:-1]]\n",
    "    return bins, labels\n",
    "\n",
    "# Height: Bucket intervals of 10 years\n",
    "height_step = 10\n",
    "height_bins, height_labels = create_bins_labels(df['Height'], height_step)\n",
    "df['Height_Category'] = pd.cut(df['Height'], bins=height_bins, labels=height_labels)\n",
    "\n",
    "# Weight: Bucket intervals of 10 kg\n",
    "\n",
    "weight_step = 10\n",
    "weight_bins, weight_labels = create_bins_labels(df['Weight'], weight_step)\n",
    "df['Weight_Category'] = pd.cut(df['Weight'], bins=weight_bins, labels=weight_labels)\n",
    "\n",
    "# Wage: Bucket intervals of 50K\n",
    "wage_step = 50000\n",
    "\n",
    "wage_bins, wage_labels = create_bins_labels(df['Wage'], wage_step)\n",
    "df['Wage_Category'] = pd.cut(df['Wage'].astype(int), bins=wage_bins, labels=wage_labels)\n",
    "\n",
    "# Value: Bucket intervals of 50M\n",
    "value_step = 50000000\n",
    "value_bins, value_labels = create_bins_labels(df['Value'], value_step)\n",
    "df['Value_Category'] = pd.cut(df['Value'].astype(int), bins=value_bins, labels=value_labels)\n",
    "\n",
    "# Release Clause: Bucket intervals of 50M\n",
    "release_clause_step = 50000000\n",
    "release_clause_bins, release_clause_labels = create_bins_labels(df['Release Clause'].astype(int), release_clause_step)\n",
    "df['Release_Clause_Category'] = pd.cut(df['Release Clause'].astype(int), bins=release_clause_bins, labels=release_clause_labels)\n",
    "\n",
    "# Display the updated DataFrame\n",
    "print(df)"
   ]
  },
  {
   "cell_type": "code",
   "execution_count": null,
   "id": "a09bda03",
   "metadata": {},
   "outputs": [],
   "source": []
  }
 ],
 "metadata": {
  "kernelspec": {
   "display_name": "Python 3 (ipykernel)",
   "language": "python",
   "name": "python3"
  },
  "language_info": {
   "codemirror_mode": {
    "name": "ipython",
    "version": 3
   },
   "file_extension": ".py",
   "mimetype": "text/x-python",
   "name": "python",
   "nbconvert_exporter": "python",
   "pygments_lexer": "ipython3",
   "version": "3.9.12"
  }
 },
 "nbformat": 4,
 "nbformat_minor": 5
}
